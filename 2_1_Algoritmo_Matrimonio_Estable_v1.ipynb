{
  "nbformat": 4,
  "nbformat_minor": 0,
  "metadata": {
    "colab": {
      "name": "2.1 Algoritmo Matrimonio Estable v1.ipynb",
      "provenance": [],
      "collapsed_sections": [],
      "toc_visible": true,
      "mount_file_id": "18NwY5B8BQE08wCC4Gwjd6du-PPiwyNST",
      "authorship_tag": "ABX9TyMLg7BvfD7gNgkKR5K9HLK4",
      "include_colab_link": true
    },
    "kernelspec": {
      "name": "python3",
      "display_name": "Python 3"
    }
  },
  "cells": [
    {
      "cell_type": "markdown",
      "metadata": {
        "id": "view-in-github",
        "colab_type": "text"
      },
      "source": [
        "<a href=\"https://colab.research.google.com/github/AnIsAsPe/Fundamentos-tecnicos-y-aplicaciones-ML/blob/main/2_1_Algoritmo_Matrimonio_Estable_v1.ipynb\" target=\"_parent\"><img src=\"https://colab.research.google.com/assets/colab-badge.svg\" alt=\"Open In Colab\"/></a>"
      ]
    },
    {
      "cell_type": "markdown",
      "metadata": {
        "id": "4UzgnO8r9ljm"
      },
      "source": [
        "#Importar bibliotecas"
      ]
    },
    {
      "cell_type": "code",
      "metadata": {
        "id": "6_iLJn4KX-Np"
      },
      "source": [
        "import numpy as np"
      ],
      "execution_count": 1,
      "outputs": []
    },
    {
      "cell_type": "markdown",
      "metadata": {
        "id": "q9PZfNJW9vVk"
      },
      "source": [
        "#Funciones"
      ]
    },
    {
      "cell_type": "markdown",
      "metadata": {
        "id": "obEJJrB1WgvY"
      },
      "source": [
        "### pref_mujeres_h1_sobre_h()"
      ]
    },
    {
      "cell_type": "code",
      "metadata": {
        "id": "A4tbj6L4Vw-Y"
      },
      "source": [
        " \n",
        "def pref_mujeres_h1_sobre_h(preferencia, m, h, h1): \n",
        "  '''Esta función prueba si la mujer 'm' prefiere al hombre 'h1'\n",
        "     sobre el hombre 'h' '''\n",
        "  N = preferencia.shape[1]\n",
        "\n",
        "  for i in range(N): \n",
        "          \n",
        "      # Si h1 está antes de h en la lista de m,  \n",
        "      # entonces la mujer se queda con el hombre h1\n",
        "      if (preferencia[m][i] == h1): \n",
        "          return True\n",
        "  \n",
        "      # En caso contrario m  se queda con h\n",
        "      if (preferencia[m][i] == h): \n",
        "          return False"
      ],
      "execution_count": 2,
      "outputs": []
    },
    {
      "cell_type": "markdown",
      "metadata": {
        "id": "mdIyAM4xXe6_"
      },
      "source": [
        "### stableMarriage()"
      ]
    },
    {
      "cell_type": "code",
      "metadata": {
        "id": "Qp1M9p4LWzZo"
      },
      "source": [
        "#def stableMarriage(preferencia, posicion1='hombre', posicion2='mujer'): \n",
        "def stableMarriage(preferencia): \n",
        "  '''Regresa una matriz con las parejas formadas en cada renglón.\n",
        "     preferencias: Matriz que guarda las preferencias de dos grupos de actores a \n",
        "     ser emparejados (por ejemplo: hombres y mujeres) \n",
        "     Las preferencias de cada uno de los hombres se encuentran en los\n",
        "     renglones del 0 al N-1.  \n",
        "     Las preferencias de cada una de las mujeres están desde el \n",
        "     el renglón N al 2N-1\n",
        "     referencia: https://www.geeksforgeeks.org/stable-marriage-problem/ '''\n",
        "     \n",
        "  N = preferencia.shape[1]\n",
        "\n",
        "  # La lista muj_pareja guarda la pareja de las mujeres  \n",
        "  # el valor muj_pareja[i] es el valor de la pareja asignada a la mujer N+i\n",
        "  # cuando el valore es -1 indica que la mujer está libre\n",
        "  muj_pareja = [-1 for i in range(N)]  \n",
        "  \n",
        "  # la lista h_comprometido va a guardar el estatus de cada hombre, el\n",
        "  # valor de h_comprometiod[i] es verdadero cuando está comprometido y falso\n",
        "  # cuando está libre. \n",
        "  h_comprometido = [False for i in range(N)] \n",
        "  \n",
        "  libres = N \n",
        "  \n",
        "  #Mientras existan hombres libres\n",
        "  while (libres > 0):  \n",
        "    # Escoje cualquier hombre libre\n",
        "    h = 0\n",
        "    while (h < N): \n",
        "        # si el hombre h está no está comprometido, se rompe el ciclo while\n",
        "        if (h_comprometido[h] == False):         \n",
        "          break\n",
        "        # de otra manera se prueba con el que sigue hasta encontrar uno libre \n",
        "        h += 1      \n",
        "  \n",
        "    # h es entonces un hombre libre y se buscara una mujer de acuerdo con \n",
        "    # sus preferencias \n",
        "    i = 0\n",
        "    while i < N and h_comprometido[h] == False: \n",
        "      m = preferencia[h][i] \n",
        "  \n",
        "      # Si la primera mujer de sus preferencias m está libre,  \n",
        "      # m y h se comprometen (no se casan) \n",
        "      if (muj_pareja[m - N] == -1): \n",
        "          muj_pareja[m - N] = h \n",
        "          h_comprometido[h] = True\n",
        "          libres -= 1  #ser resta uno a los hombres libres\n",
        "\n",
        "      else:\n",
        "                  \n",
        "          # Si la mujer no está libre, se reviza con qué hombre esta comprometida\n",
        "          h1 = muj_pareja[m - N] \n",
        "  \n",
        "          # Se revisa si la mujer prefiere a su compormetido (h1) sobre  h. \n",
        "          if (pref_mujeres_h1_sobre_h(preferencia, m, h, h1) == False): \n",
        "              muj_pareja[m - N] = h \n",
        "              h_comprometido[h] = True\n",
        "              h_comprometido[h1] = False\n",
        "      i += 1 \n",
        "  \n",
        "  hombres = np.array(muj_pareja)\n",
        "  mujeres = np.arange(N, 2*N)\n",
        "  parejas =np.column_stack((mujeres, hombres))\n",
        "\n",
        "  return parejas"
      ],
      "execution_count": 3,
      "outputs": []
    },
    {
      "cell_type": "markdown",
      "metadata": {
        "id": "r0UvasmA-ACV"
      },
      "source": [
        "# Ejemplo 1 Parejas estables entre hombres y mujeres de acuerdo a sus preferencias"
      ]
    },
    {
      "cell_type": "code",
      "metadata": {
        "colab": {
          "base_uri": "https://localhost:8080/"
        },
        "id": "VZ9GdrmP0XC2",
        "outputId": "2c7ca43d-edd4-4d3a-d218-a4b23583ad13"
      },
      "source": [
        "#Construcción de una matriz de preferencias\n",
        "pref = {}  #inicia dic para guardar las preferencias ordenadas de hombres y mujeres\n",
        "\n",
        "#las preferencias de los hombres se guardaran de la clave 0 a la clave 4\n",
        "for i in range(0, 5): \n",
        "  pref[i] = np.random.choice(range(5, 10), 5, replace=False)\n",
        "\n",
        "#las preferencias de las mujeres se guardaran de la clave 5 a la clave 9   \n",
        "for i in range(5,10):\n",
        "  pref[i] = np.random.choice( range(0, 5), 5, replace=False) #genera preferenciaencias de las mujeres\n",
        "  \n",
        "pref"
      ],
      "execution_count": 8,
      "outputs": [
        {
          "output_type": "execute_result",
          "data": {
            "text/plain": [
              "{0: array([6, 8, 7, 5, 9]),\n",
              " 1: array([7, 9, 6, 5, 8]),\n",
              " 2: array([7, 8, 5, 6, 9]),\n",
              " 3: array([7, 6, 9, 5, 8]),\n",
              " 4: array([7, 9, 5, 6, 8]),\n",
              " 5: array([4, 3, 0, 2, 1]),\n",
              " 6: array([4, 1, 3, 0, 2]),\n",
              " 7: array([2, 4, 3, 0, 1]),\n",
              " 8: array([1, 0, 4, 2, 3]),\n",
              " 9: array([3, 0, 1, 2, 4])}"
            ]
          },
          "metadata": {
            "tags": []
          },
          "execution_count": 8
        }
      ]
    },
    {
      "cell_type": "code",
      "metadata": {
        "colab": {
          "base_uri": "https://localhost:8080/"
        },
        "id": "4tkAEl4ZFoWj",
        "outputId": "feea65ea-6a5e-4710-9aee-9b5b60793317"
      },
      "source": [
        "preferencia = np.stack(list(pref.values()), axis=0)\r\n",
        "preferencia"
      ],
      "execution_count": 11,
      "outputs": [
        {
          "output_type": "execute_result",
          "data": {
            "text/plain": [
              "array([[6, 8, 7, 5, 9],\n",
              "       [7, 9, 6, 5, 8],\n",
              "       [7, 8, 5, 6, 9],\n",
              "       [7, 6, 9, 5, 8],\n",
              "       [7, 9, 5, 6, 8],\n",
              "       [4, 3, 0, 2, 1],\n",
              "       [4, 1, 3, 0, 2],\n",
              "       [2, 4, 3, 0, 1],\n",
              "       [1, 0, 4, 2, 3],\n",
              "       [3, 0, 1, 2, 4]])"
            ]
          },
          "metadata": {
            "tags": []
          },
          "execution_count": 11
        }
      ]
    },
    {
      "cell_type": "code",
      "metadata": {
        "colab": {
          "base_uri": "https://localhost:8080/"
        },
        "id": "T4wTNIcwmrSV",
        "outputId": "6bd5cc1d-0bcb-4e81-9652-be23fd5a100e"
      },
      "source": [
        "parejas = stableMarriage(preferencia)\r\n",
        "parejas"
      ],
      "execution_count": 12,
      "outputs": [
        {
          "output_type": "execute_result",
          "data": {
            "text/plain": [
              "array([[5, 4],\n",
              "       [6, 3],\n",
              "       [7, 2],\n",
              "       [8, 0],\n",
              "       [9, 1]])"
            ]
          },
          "metadata": {
            "tags": []
          },
          "execution_count": 12
        }
      ]
    },
    {
      "cell_type": "markdown",
      "metadata": {
        "id": "uTzeb6H8Rky_"
      },
      "source": [
        "**el algoritmo no es simétrico**"
      ]
    },
    {
      "cell_type": "code",
      "metadata": {
        "id": "p70M1Nki_nJg",
        "colab": {
          "base_uri": "https://localhost:8080/"
        },
        "outputId": "a4e5d2cd-4974-40aa-b7a3-d06d0c356c22"
      },
      "source": [
        "parejas2 = stableMarriage(np.concatenate((preferencia[6:,],preferencia[0:5,]), axis=0))\r\n",
        "parejas2"
      ],
      "execution_count": 13,
      "outputs": [
        {
          "output_type": "execute_result",
          "data": {
            "text/plain": [
              "array([[5, 4],\n",
              "       [6, 2],\n",
              "       [7, 1],\n",
              "       [8, 3],\n",
              "       [9, 0]])"
            ]
          },
          "metadata": {
            "tags": []
          },
          "execution_count": 13
        }
      ]
    },
    {
      "cell_type": "code",
      "metadata": {
        "colab": {
          "base_uri": "https://localhost:8080/",
          "height": 347
        },
        "id": "KXlaSLuaR6D7",
        "outputId": "2675e0d9-b8e5-4eed-bbe3-e4ad7c8394bc"
      },
      "source": [
        "import pandas as pd\r\n",
        "pref = pd.DataFrame(preferencia, columns = ['P_'+str(i) for i in range(1,6)])\r\n",
        "pref"
      ],
      "execution_count": 14,
      "outputs": [
        {
          "output_type": "execute_result",
          "data": {
            "text/html": [
              "<div>\n",
              "<style scoped>\n",
              "    .dataframe tbody tr th:only-of-type {\n",
              "        vertical-align: middle;\n",
              "    }\n",
              "\n",
              "    .dataframe tbody tr th {\n",
              "        vertical-align: top;\n",
              "    }\n",
              "\n",
              "    .dataframe thead th {\n",
              "        text-align: right;\n",
              "    }\n",
              "</style>\n",
              "<table border=\"1\" class=\"dataframe\">\n",
              "  <thead>\n",
              "    <tr style=\"text-align: right;\">\n",
              "      <th></th>\n",
              "      <th>P_1</th>\n",
              "      <th>P_2</th>\n",
              "      <th>P_3</th>\n",
              "      <th>P_4</th>\n",
              "      <th>P_5</th>\n",
              "    </tr>\n",
              "  </thead>\n",
              "  <tbody>\n",
              "    <tr>\n",
              "      <th>0</th>\n",
              "      <td>6</td>\n",
              "      <td>8</td>\n",
              "      <td>7</td>\n",
              "      <td>5</td>\n",
              "      <td>9</td>\n",
              "    </tr>\n",
              "    <tr>\n",
              "      <th>1</th>\n",
              "      <td>7</td>\n",
              "      <td>9</td>\n",
              "      <td>6</td>\n",
              "      <td>5</td>\n",
              "      <td>8</td>\n",
              "    </tr>\n",
              "    <tr>\n",
              "      <th>2</th>\n",
              "      <td>7</td>\n",
              "      <td>8</td>\n",
              "      <td>5</td>\n",
              "      <td>6</td>\n",
              "      <td>9</td>\n",
              "    </tr>\n",
              "    <tr>\n",
              "      <th>3</th>\n",
              "      <td>7</td>\n",
              "      <td>6</td>\n",
              "      <td>9</td>\n",
              "      <td>5</td>\n",
              "      <td>8</td>\n",
              "    </tr>\n",
              "    <tr>\n",
              "      <th>4</th>\n",
              "      <td>7</td>\n",
              "      <td>9</td>\n",
              "      <td>5</td>\n",
              "      <td>6</td>\n",
              "      <td>8</td>\n",
              "    </tr>\n",
              "    <tr>\n",
              "      <th>5</th>\n",
              "      <td>4</td>\n",
              "      <td>3</td>\n",
              "      <td>0</td>\n",
              "      <td>2</td>\n",
              "      <td>1</td>\n",
              "    </tr>\n",
              "    <tr>\n",
              "      <th>6</th>\n",
              "      <td>4</td>\n",
              "      <td>1</td>\n",
              "      <td>3</td>\n",
              "      <td>0</td>\n",
              "      <td>2</td>\n",
              "    </tr>\n",
              "    <tr>\n",
              "      <th>7</th>\n",
              "      <td>2</td>\n",
              "      <td>4</td>\n",
              "      <td>3</td>\n",
              "      <td>0</td>\n",
              "      <td>1</td>\n",
              "    </tr>\n",
              "    <tr>\n",
              "      <th>8</th>\n",
              "      <td>1</td>\n",
              "      <td>0</td>\n",
              "      <td>4</td>\n",
              "      <td>2</td>\n",
              "      <td>3</td>\n",
              "    </tr>\n",
              "    <tr>\n",
              "      <th>9</th>\n",
              "      <td>3</td>\n",
              "      <td>0</td>\n",
              "      <td>1</td>\n",
              "      <td>2</td>\n",
              "      <td>4</td>\n",
              "    </tr>\n",
              "  </tbody>\n",
              "</table>\n",
              "</div>"
            ],
            "text/plain": [
              "   P_1  P_2  P_3  P_4  P_5\n",
              "0    6    8    7    5    9\n",
              "1    7    9    6    5    8\n",
              "2    7    8    5    6    9\n",
              "3    7    6    9    5    8\n",
              "4    7    9    5    6    8\n",
              "5    4    3    0    2    1\n",
              "6    4    1    3    0    2\n",
              "7    2    4    3    0    1\n",
              "8    1    0    4    2    3\n",
              "9    3    0    1    2    4"
            ]
          },
          "metadata": {
            "tags": []
          },
          "execution_count": 14
        }
      ]
    },
    {
      "cell_type": "code",
      "metadata": {
        "id": "WL_f-jX1Wsbw"
      },
      "source": [
        "pref.min()"
      ],
      "execution_count": null,
      "outputs": []
    },
    {
      "cell_type": "markdown",
      "metadata": {
        "id": "EpPliW-2-FwP"
      },
      "source": [
        "# Ejemplo 2 Recomendacion emparejamiento candidatos-empleos"
      ]
    },
    {
      "cell_type": "markdown",
      "metadata": {
        "id": "J5N5W3nMPXyZ"
      },
      "source": [
        "Conjunto de datos generado a partir del [github](https://github.com/AmarSaini/PrivateJobMatch) [2]"
      ]
    },
    {
      "cell_type": "code",
      "metadata": {
        "colab": {
          "base_uri": "https://localhost:8080/"
        },
        "id": "-Y7TftwE-U_V",
        "outputId": "d84d6286-0d02-4695-f380-0af5af16cf63"
      },
      "source": [
        "candidatos = np.genfromtxt('https://raw.githubusercontent.com/AnIsAsPe/Fundamentos-tecnicos-y-aplicaciones-ML/main/Datos/dense_candidate_prefs.csv',\n",
        "                           delimiter=',')\n",
        "candidatos.shape"
      ],
      "execution_count": 15,
      "outputs": [
        {
          "output_type": "execute_result",
          "data": {
            "text/plain": [
              "(100, 100)"
            ]
          },
          "metadata": {
            "tags": []
          },
          "execution_count": 15
        }
      ]
    },
    {
      "cell_type": "code",
      "metadata": {
        "colab": {
          "base_uri": "https://localhost:8080/"
        },
        "id": "pVjZrWyKXB33",
        "outputId": "faad233e-81cb-4f3e-bbe1-1d3c3511d312"
      },
      "source": [
        "candidatos.min(), candidatos.max()  #nueva linea"
      ],
      "execution_count": 16,
      "outputs": [
        {
          "output_type": "execute_result",
          "data": {
            "text/plain": [
              "(1.0, 100.0)"
            ]
          },
          "metadata": {
            "tags": []
          },
          "execution_count": 16
        }
      ]
    },
    {
      "cell_type": "code",
      "metadata": {
        "colab": {
          "base_uri": "https://localhost:8080/"
        },
        "id": "I_0DPiH_YXpS",
        "outputId": "c5b246fd-3bc8-47d2-82f4-249217b2156f"
      },
      "source": [
        "candidatos = candidatos - 1   #nueva línea\r\n",
        "candidatos = candidatos + 100  #nueva linea\r\n",
        "candidatos.min(), candidatos.max()  #nueva linea"
      ],
      "execution_count": 17,
      "outputs": [
        {
          "output_type": "execute_result",
          "data": {
            "text/plain": [
              "(100.0, 199.0)"
            ]
          },
          "metadata": {
            "tags": []
          },
          "execution_count": 17
        }
      ]
    },
    {
      "cell_type": "code",
      "metadata": {
        "colab": {
          "base_uri": "https://localhost:8080/"
        },
        "id": "6H9BrkmA_B3I",
        "outputId": "3bb8bdbb-09df-4b06-f632-7de13118c411"
      },
      "source": [
        "empleadores = np.genfromtxt('https://raw.githubusercontent.com/AnIsAsPe/Fundamentos-tecnicos-y-aplicaciones-ML/main/Datos/dense_employer_prefs.csv',\n",
        "                            delimiter=',')\n",
        "empleadores.shape"
      ],
      "execution_count": 18,
      "outputs": [
        {
          "output_type": "execute_result",
          "data": {
            "text/plain": [
              "(100, 100)"
            ]
          },
          "metadata": {
            "tags": []
          },
          "execution_count": 18
        }
      ]
    },
    {
      "cell_type": "code",
      "metadata": {
        "colab": {
          "base_uri": "https://localhost:8080/"
        },
        "id": "nn6yEI0XYvjn",
        "outputId": "9cd9a275-6701-4f96-ce88-dc6c3ded27c5"
      },
      "source": [
        "empleadores.min(), empleadores.max()  #nueva linea"
      ],
      "execution_count": 19,
      "outputs": [
        {
          "output_type": "execute_result",
          "data": {
            "text/plain": [
              "(1.0, 100.0)"
            ]
          },
          "metadata": {
            "tags": []
          },
          "execution_count": 19
        }
      ]
    },
    {
      "cell_type": "code",
      "metadata": {
        "colab": {
          "base_uri": "https://localhost:8080/"
        },
        "id": "WtwpLQa0Y2DQ",
        "outputId": "83b2f53d-849f-46de-a394-e565d15b0d0f"
      },
      "source": [
        "empleadores = empleadores - 1   #nueva línea\r\n",
        "empleadores.min(), empleadores.max()  #nueva linea"
      ],
      "execution_count": 20,
      "outputs": [
        {
          "output_type": "execute_result",
          "data": {
            "text/plain": [
              "(0.0, 99.0)"
            ]
          },
          "metadata": {
            "tags": []
          },
          "execution_count": 20
        }
      ]
    },
    {
      "cell_type": "code",
      "metadata": {
        "colab": {
          "base_uri": "https://localhost:8080/"
        },
        "id": "7TMYsAuhFwvb",
        "outputId": "22d7871f-2c12-46c3-9ca1-3f2ba4dade67"
      },
      "source": [
        "matriz_pref = np.concatenate((candidatos,empleadores), axis=0)\n",
        "matriz_pref = matriz_pref.astype('int64')\n",
        "matriz_pref.shape"
      ],
      "execution_count": 21,
      "outputs": [
        {
          "output_type": "execute_result",
          "data": {
            "text/plain": [
              "(200, 100)"
            ]
          },
          "metadata": {
            "tags": []
          },
          "execution_count": 21
        }
      ]
    },
    {
      "cell_type": "code",
      "metadata": {
        "colab": {
          "base_uri": "https://localhost:8080/"
        },
        "id": "xkAnmp_HGsZw",
        "outputId": "ace8976a-fa3e-46b0-ec87-b25006243cd4"
      },
      "source": [
        "candidatos_empleadores = stableMarriage(matriz_pref)\r\n",
        "candidatos_empleadores.shape"
      ],
      "execution_count": 22,
      "outputs": [
        {
          "output_type": "execute_result",
          "data": {
            "text/plain": [
              "(100, 2)"
            ]
          },
          "metadata": {
            "tags": []
          },
          "execution_count": 22
        }
      ]
    },
    {
      "cell_type": "code",
      "metadata": {
        "colab": {
          "base_uri": "https://localhost:8080/"
        },
        "id": "DPsszTY9LHny",
        "outputId": "3666e607-ba9b-4c4f-8c84-eb792fcfbbf3"
      },
      "source": [
        "candidatos_empleadores"
      ],
      "execution_count": 23,
      "outputs": [
        {
          "output_type": "execute_result",
          "data": {
            "text/plain": [
              "array([[100,  20],\n",
              "       [101,  98],\n",
              "       [102,  32],\n",
              "       [103,  59],\n",
              "       [104,  31],\n",
              "       [105,  84],\n",
              "       [106,  27],\n",
              "       [107,  40],\n",
              "       [108,  36],\n",
              "       [109,   0],\n",
              "       [110,  26],\n",
              "       [111,  97],\n",
              "       [112,  95],\n",
              "       [113,  92],\n",
              "       [114,  85],\n",
              "       [115,  48],\n",
              "       [116,  34],\n",
              "       [117,  38],\n",
              "       [118,  51],\n",
              "       [119,  37],\n",
              "       [120,   5],\n",
              "       [121,  52],\n",
              "       [122,  90],\n",
              "       [123,  81],\n",
              "       [124,  66],\n",
              "       [125,  78],\n",
              "       [126,  22],\n",
              "       [127,  64],\n",
              "       [128,  50],\n",
              "       [129,  68],\n",
              "       [130,  86],\n",
              "       [131,  41],\n",
              "       [132,  70],\n",
              "       [133,  89],\n",
              "       [134,  56],\n",
              "       [135,  10],\n",
              "       [136,  74],\n",
              "       [137,  23],\n",
              "       [138,  54],\n",
              "       [139,  67],\n",
              "       [140,  77],\n",
              "       [141,  13],\n",
              "       [142,   3],\n",
              "       [143,  63],\n",
              "       [144,  15],\n",
              "       [145,   6],\n",
              "       [146,  61],\n",
              "       [147,  12],\n",
              "       [148,  29],\n",
              "       [149,  82],\n",
              "       [150,  42],\n",
              "       [151,  16],\n",
              "       [152,  87],\n",
              "       [153,   4],\n",
              "       [154,  47],\n",
              "       [155,  18],\n",
              "       [156,  88],\n",
              "       [157,  21],\n",
              "       [158,  83],\n",
              "       [159,   9],\n",
              "       [160,  72],\n",
              "       [161,  44],\n",
              "       [162,  94],\n",
              "       [163,  35],\n",
              "       [164,  30],\n",
              "       [165,  62],\n",
              "       [166,  99],\n",
              "       [167,  96],\n",
              "       [168,  93],\n",
              "       [169,  11],\n",
              "       [170,   8],\n",
              "       [171,  45],\n",
              "       [172,  43],\n",
              "       [173,  25],\n",
              "       [174,   1],\n",
              "       [175,  71],\n",
              "       [176,   2],\n",
              "       [177,  49],\n",
              "       [178,  58],\n",
              "       [179,  39],\n",
              "       [180,  60],\n",
              "       [181,  19],\n",
              "       [182,  76],\n",
              "       [183,  14],\n",
              "       [184,  55],\n",
              "       [185,  57],\n",
              "       [186,  53],\n",
              "       [187,  80],\n",
              "       [188,  69],\n",
              "       [189,   7],\n",
              "       [190,  24],\n",
              "       [191,  46],\n",
              "       [192,  75],\n",
              "       [193,  28],\n",
              "       [194,  91],\n",
              "       [195,  79],\n",
              "       [196,  73],\n",
              "       [197,  65],\n",
              "       [198,  17],\n",
              "       [199,  33]])"
            ]
          },
          "metadata": {
            "tags": []
          },
          "execution_count": 23
        }
      ]
    },
    {
      "cell_type": "markdown",
      "metadata": {
        "id": "vs4zbtbIKiLq"
      },
      "source": [
        "# Referencias:\r\n",
        "\r\n",
        "1. Stable Marriage Problem [Internet]. GeeksforGeeks. 2013 [citado 13 de diciembre de 2020]. Disponible en: https://www.geeksforgeeks.org/stable-marriage-problem/\r\n",
        "\r\n",
        "\r\n",
        "2. Saini A, Rusu F, Johnston A. PrivateJobMatch: a privacy-oriented deferred multi-match recommender system for stable employment. En: Proceedings of the 13th ACM Conference on Recommender Systems [Internet]. Copenhagen Denmark: ACM; 2019 [citado 24 de noviembre de 2020]. p. 87-95. Disponible en: https://dl.acm.org/doi/10.1145/3298689.3346983\r\n"
      ]
    }
  ]
}