{
  "nbformat": 4,
  "nbformat_minor": 0,
  "metadata": {
    "kernelspec": {
      "display_name": "Python 3",
      "language": "python",
      "name": "python3"
    },
    "language_info": {
      "codemirror_mode": {
        "name": "ipython",
        "version": 3
      },
      "file_extension": ".py",
      "mimetype": "text/x-python",
      "name": "python",
      "nbconvert_exporter": "python",
      "pygments_lexer": "ipython3",
      "version": "3.8.2"
    },
    "colab": {
      "name": "Introducción a Pandas.ipynb",
      "provenance": [],
      "toc_visible": true
    }
  },
  "cells": [
    {
      "cell_type": "markdown",
      "metadata": {
        "id": "adseiWLy7PYO"
      },
      "source": [
        "# Introducción a Pandas\n",
        "\n"
      ]
    },
    {
      "cell_type": "markdown",
      "metadata": {
        "id": "kSbu8IHu7PYP"
      },
      "source": [
        "[*Pandas*](http://pandas.pydata.org/) Es una librería de python para análisis de datos estructuradas en columnas y renglones, muy popular para manipulación, análisis y preprocesamiento  en columnas, ideal para manipular y analizar datos de entrada. Además, *Pandas* se integra muy bien con otras librerías de Ciencia de Datos, de manera que usualmente los algoritmos de machine learning reciben como entradas las dos principales estructuras de *Pandas*: los `DataFrames` y las `Series`\n",
        "\n",
        "\n"
      ]
    },
    {
      "cell_type": "markdown",
      "metadata": {
        "id": "D-BI53di7ka4"
      },
      "source": [
        "# Objetos de Pandas"
      ]
    },
    {
      "cell_type": "code",
      "metadata": {
        "collapsed": true,
        "id": "doYYmf_J7ka5"
      },
      "source": [
        "import numpy as np\n",
        "import pandas as pd"
      ],
      "execution_count": 1,
      "outputs": []
    },
    {
      "cell_type": "markdown",
      "metadata": {
        "id": "zCH13FTY7ka5"
      },
      "source": [
        "## Series\n",
        "\n",
        "Las series son equivalentes a los vectores de NumPy.\n",
        "\n",
        "Pueden crearse a partir de listas o vectores."
      ]
    },
    {
      "cell_type": "code",
      "metadata": {
        "id": "fFpx7n6k7ka6",
        "colab": {
          "base_uri": "https://localhost:8080/"
        },
        "outputId": "7eb9035b-e1f9-4b01-ebc7-c5c6008c897d"
      },
      "source": [
        "c = ['rojo', 'verde', 'azul', 'amarillo']\n",
        "colores = pd.Series(c)\n",
        "colores"
      ],
      "execution_count": 2,
      "outputs": [
        {
          "output_type": "execute_result",
          "data": {
            "text/plain": [
              "0        rojo\n",
              "1       verde\n",
              "2        azul\n",
              "3    amarillo\n",
              "dtype: object"
            ]
          },
          "metadata": {
            "tags": []
          },
          "execution_count": 2
        }
      ]
    },
    {
      "cell_type": "code",
      "metadata": {
        "colab": {
          "base_uri": "https://localhost:8080/"
        },
        "id": "0ATXKbQa9S0I",
        "outputId": "8a0b5b0e-4e3c-405c-c315-6b63f1f6e5f2"
      },
      "source": [
        "p = np.array([0.2, 0.4, 0.8, 1])\n",
        "porcentajes = pd.Series(p)\n",
        "porcentajes"
      ],
      "execution_count": 3,
      "outputs": [
        {
          "output_type": "execute_result",
          "data": {
            "text/plain": [
              "0    0.2\n",
              "1    0.4\n",
              "2    0.8\n",
              "3    1.0\n",
              "dtype: float64"
            ]
          },
          "metadata": {
            "tags": []
          },
          "execution_count": 3
        }
      ]
    },
    {
      "cell_type": "markdown",
      "metadata": {
        "id": "hFr7D4FP7ka6"
      },
      "source": [
        "Una serie consta de los valores y de los índices y se puede acceder a ellos con los atributos  ``values`` e ``index``.\n",
        "\n",
        "Los valores son un vector de NumPy"
      ]
    },
    {
      "cell_type": "code",
      "metadata": {
        "colab": {
          "base_uri": "https://localhost:8080/"
        },
        "id": "ZaGM1KYs9ssK",
        "outputId": "9499825d-6560-41fe-85c4-e0892f79dace"
      },
      "source": [
        "porcentajes.values"
      ],
      "execution_count": 4,
      "outputs": [
        {
          "output_type": "execute_result",
          "data": {
            "text/plain": [
              "array([0.2, 0.4, 0.8, 1. ])"
            ]
          },
          "metadata": {
            "tags": []
          },
          "execution_count": 4
        }
      ]
    },
    {
      "cell_type": "code",
      "metadata": {
        "id": "sQ8PEcKf7ka7",
        "colab": {
          "base_uri": "https://localhost:8080/"
        },
        "outputId": "367c2e60-097a-40c6-dbb0-511a78a5f0f0"
      },
      "source": [
        "porcentajes.index"
      ],
      "execution_count": 5,
      "outputs": [
        {
          "output_type": "execute_result",
          "data": {
            "text/plain": [
              "RangeIndex(start=0, stop=4, step=1)"
            ]
          },
          "metadata": {
            "tags": []
          },
          "execution_count": 5
        }
      ]
    },
    {
      "cell_type": "markdown",
      "metadata": {
        "id": "OgaC5vdo7ka7"
      },
      "source": [
        "Como en un vector de numpy, usamos los indices par obtener un subconjunto de elementos."
      ]
    },
    {
      "cell_type": "code",
      "metadata": {
        "id": "4PLXYcIs7ka8",
        "colab": {
          "base_uri": "https://localhost:8080/"
        },
        "outputId": "e1a39056-9834-49da-97c2-40e9e4380889"
      },
      "source": [
        "porcentajes[1]"
      ],
      "execution_count": 6,
      "outputs": [
        {
          "output_type": "execute_result",
          "data": {
            "text/plain": [
              "0.4"
            ]
          },
          "metadata": {
            "tags": []
          },
          "execution_count": 6
        }
      ]
    },
    {
      "cell_type": "code",
      "metadata": {
        "id": "LIKTzoKt7ka8",
        "colab": {
          "base_uri": "https://localhost:8080/"
        },
        "outputId": "dad854ef-aed6-432c-a2e1-ba2993915541"
      },
      "source": [
        "porcentajes[1:3]"
      ],
      "execution_count": 7,
      "outputs": [
        {
          "output_type": "execute_result",
          "data": {
            "text/plain": [
              "1    0.4\n",
              "2    0.8\n",
              "dtype: float64"
            ]
          },
          "metadata": {
            "tags": []
          },
          "execution_count": 7
        }
      ]
    },
    {
      "cell_type": "markdown",
      "metadata": {
        "id": "qsHFdLLp7ka9"
      },
      "source": [
        "Los objetos ``Series`` tienen la ventaja sobre los vectores de numpy que permite definir indices asociados a los valores, y pueden ser de cualquier tipo por ejemplo:"
      ]
    },
    {
      "cell_type": "code",
      "metadata": {
        "id": "mdZ_Tm3r7ka9",
        "colab": {
          "base_uri": "https://localhost:8080/"
        },
        "outputId": "c3e40501-e1a8-4f4d-a289-2255dcc6b6a9"
      },
      "source": [
        "nivel_color = pd.Series(p,   # toma el objeto p (puede ser lista o vector)\n",
        "                 index=c)    #asigna como índice el objeto c (lista o vector)\n",
        "nivel_color"
      ],
      "execution_count": 8,
      "outputs": [
        {
          "output_type": "execute_result",
          "data": {
            "text/plain": [
              "rojo        0.2\n",
              "verde       0.4\n",
              "azul        0.8\n",
              "amarillo    1.0\n",
              "dtype: float64"
            ]
          },
          "metadata": {
            "tags": []
          },
          "execution_count": 8
        }
      ]
    },
    {
      "cell_type": "code",
      "metadata": {
        "colab": {
          "base_uri": "https://localhost:8080/"
        },
        "id": "KPfhFIgoAEdb",
        "outputId": "854211e6-9879-4210-a215-09a8ebbcc5a6"
      },
      "source": [
        "nivel_color.index"
      ],
      "execution_count": 9,
      "outputs": [
        {
          "output_type": "execute_result",
          "data": {
            "text/plain": [
              "Index(['rojo', 'verde', 'azul', 'amarillo'], dtype='object')"
            ]
          },
          "metadata": {
            "tags": []
          },
          "execution_count": 9
        }
      ]
    },
    {
      "cell_type": "code",
      "metadata": {
        "id": "4kH1DyhR7ka-",
        "colab": {
          "base_uri": "https://localhost:8080/"
        },
        "outputId": "619f5a23-df26-4e9f-ac54-f01ee4c53282"
      },
      "source": [
        "nivel_color['azul']         # Nos recuerda el uso de los diccionarios"
      ],
      "execution_count": 10,
      "outputs": [
        {
          "output_type": "execute_result",
          "data": {
            "text/plain": [
              "0.8"
            ]
          },
          "metadata": {
            "tags": []
          },
          "execution_count": 10
        }
      ]
    },
    {
      "cell_type": "markdown",
      "metadata": {
        "id": "IpFMjOAl7ka_"
      },
      "source": [
        "### Series son también como diccionarios\n",
        "\n"
      ]
    },
    {
      "cell_type": "code",
      "metadata": {
        "id": "W0Pds4sD7ka_",
        "colab": {
          "base_uri": "https://localhost:8080/"
        },
        "outputId": "c1b23b80-1c8a-41a6-c22a-677427427d21"
      },
      "source": [
        "#diccionario con la población en 2020 para estados seleccionados\n",
        "\n",
        "poblacion_dict = {'Aguascalientes': 1425607\t,\n",
        "                   'Guanajuato': 6166934,\n",
        "                   'Jalisco': 8348151\t,\n",
        "                   'CDMX': 9209944,\n",
        "                   'Querétaro': 2368467}\n",
        "\n",
        "pob = pd.Series(poblacion_dict)\n",
        "pob"
      ],
      "execution_count": 11,
      "outputs": [
        {
          "output_type": "execute_result",
          "data": {
            "text/plain": [
              "Aguascalientes    1425607\n",
              "Guanajuato        6166934\n",
              "Jalisco           8348151\n",
              "CDMX              9209944\n",
              "Querétaro         2368467\n",
              "dtype: int64"
            ]
          },
          "metadata": {
            "tags": []
          },
          "execution_count": 11
        }
      ]
    },
    {
      "cell_type": "code",
      "metadata": {
        "id": "mlTM45pL7ka_",
        "colab": {
          "base_uri": "https://localhost:8080/"
        },
        "outputId": "5ae56d88-e588-454e-c3ed-20a641374273"
      },
      "source": [
        "pob['Querétaro']"
      ],
      "execution_count": 12,
      "outputs": [
        {
          "output_type": "execute_result",
          "data": {
            "text/plain": [
              "2368467"
            ]
          },
          "metadata": {
            "tags": []
          },
          "execution_count": 12
        }
      ]
    },
    {
      "cell_type": "markdown",
      "metadata": {
        "id": "udW5W2037kbA"
      },
      "source": [
        "Con la ventaja de que podemos seleccionar una parte de los datos"
      ]
    },
    {
      "cell_type": "code",
      "metadata": {
        "id": "YFAHh_yK7kbA",
        "colab": {
          "base_uri": "https://localhost:8080/"
        },
        "outputId": "f8c4f495-ad64-448d-83df-c0429e7944ff"
      },
      "source": [
        "pob['Aguascalientes':'CDMX']"
      ],
      "execution_count": 13,
      "outputs": [
        {
          "output_type": "execute_result",
          "data": {
            "text/plain": [
              "Aguascalientes    1425607\n",
              "Guanajuato        6166934\n",
              "Jalisco           8348151\n",
              "CDMX              9209944\n",
              "dtype: int64"
            ]
          },
          "metadata": {
            "tags": []
          },
          "execution_count": 13
        }
      ]
    },
    {
      "cell_type": "markdown",
      "metadata": {
        "id": "H3p6Bzta-GTL"
      },
      "source": [
        "lo que no es posible hacer con los diccionarios"
      ]
    },
    {
      "cell_type": "code",
      "metadata": {
        "colab": {
          "base_uri": "https://localhost:8080/",
          "height": 163
        },
        "id": "lJoiJyhK9-W9",
        "outputId": "7690e41e-2324-4b34-c8ca-ba7854da98d4"
      },
      "source": [
        "poblacion_dict['Aguascalientes':'CDMX']  "
      ],
      "execution_count": 14,
      "outputs": [
        {
          "output_type": "error",
          "ename": "TypeError",
          "evalue": "ignored",
          "traceback": [
            "\u001b[0;31m---------------------------------------------------------------------------\u001b[0m",
            "\u001b[0;31mTypeError\u001b[0m                                 Traceback (most recent call last)",
            "\u001b[0;32m<ipython-input-14-779be0ca04ec>\u001b[0m in \u001b[0;36m<module>\u001b[0;34m()\u001b[0m\n\u001b[0;32m----> 1\u001b[0;31m \u001b[0mpoblacion_dict\u001b[0m\u001b[0;34m[\u001b[0m\u001b[0;34m'Aguascalientes'\u001b[0m\u001b[0;34m:\u001b[0m\u001b[0;34m'CDMX'\u001b[0m\u001b[0;34m]\u001b[0m\u001b[0;34m\u001b[0m\u001b[0;34m\u001b[0m\u001b[0m\n\u001b[0m",
            "\u001b[0;31mTypeError\u001b[0m: unhashable type: 'slice'"
          ]
        }
      ]
    },
    {
      "cell_type": "markdown",
      "metadata": {
        "id": "cxKpHzkv7kbA"
      },
      "source": [
        "### Más ejemplos de series"
      ]
    },
    {
      "cell_type": "code",
      "metadata": {
        "id": "nXeQtvd17kbB",
        "colab": {
          "base_uri": "https://localhost:8080/"
        },
        "outputId": "c7fa55a8-ec66-49b7-ae1b-a8645018dca0"
      },
      "source": [
        "pd.Series([2, 4, 6])"
      ],
      "execution_count": 15,
      "outputs": [
        {
          "output_type": "execute_result",
          "data": {
            "text/plain": [
              "0    2\n",
              "1    4\n",
              "2    6\n",
              "dtype: int64"
            ]
          },
          "metadata": {
            "tags": []
          },
          "execution_count": 15
        }
      ]
    },
    {
      "cell_type": "code",
      "metadata": {
        "id": "7mCvH23G7kbB",
        "colab": {
          "base_uri": "https://localhost:8080/"
        },
        "outputId": "5c43aa35-62ed-47b0-91fb-284af5935d2a"
      },
      "source": [
        "pd.Series(14, index=[150, 220, 380])"
      ],
      "execution_count": 16,
      "outputs": [
        {
          "output_type": "execute_result",
          "data": {
            "text/plain": [
              "150    14\n",
              "220    14\n",
              "380    14\n",
              "dtype: int64"
            ]
          },
          "metadata": {
            "tags": []
          },
          "execution_count": 16
        }
      ]
    },
    {
      "cell_type": "code",
      "metadata": {
        "id": "XahFl4c37kbC",
        "colab": {
          "base_uri": "https://localhost:8080/"
        },
        "outputId": "70c600c2-413d-411a-91b7-3cf5f4c9dd1d"
      },
      "source": [
        "pd.Series({2:'a', 1:'b', 3:'c'})"
      ],
      "execution_count": 17,
      "outputs": [
        {
          "output_type": "execute_result",
          "data": {
            "text/plain": [
              "2    a\n",
              "1    b\n",
              "3    c\n",
              "dtype: object"
            ]
          },
          "metadata": {
            "tags": []
          },
          "execution_count": 17
        }
      ]
    },
    {
      "cell_type": "markdown",
      "metadata": {
        "id": "wK1S09KY7kbD"
      },
      "source": [
        "##  DataFrame \n",
        "\n",
        "Igual que las ```Series```, un ```DataFrame``` se puede entender como una matriz de NumPy o como un diccionario, con ventajas adicionales"
      ]
    },
    {
      "cell_type": "code",
      "metadata": {
        "id": "rfIhG9EH7kbE"
      },
      "source": [
        "hombres_dic = {'Aguascalientes': 696683\t,  'Guanajuato': 2996454,\n",
        "               'Jalisco':4098455 , 'CDMX': 4404927, 'Querétaro': 1156820,\n",
        "               }"
      ],
      "execution_count": 18,
      "outputs": []
    },
    {
      "cell_type": "code",
      "metadata": {
        "colab": {
          "base_uri": "https://localhost:8080/",
          "height": 204
        },
        "id": "AcDL-biaBd-t",
        "outputId": "345d9c07-70b2-48e4-c399-271ca24bd6db"
      },
      "source": [
        "pd.DataFrame({'total': poblacion_dict,'hombres': hombres_dic}) # A partir de dos diccionarios"
      ],
      "execution_count": 19,
      "outputs": [
        {
          "output_type": "execute_result",
          "data": {
            "text/html": [
              "<div>\n",
              "<style scoped>\n",
              "    .dataframe tbody tr th:only-of-type {\n",
              "        vertical-align: middle;\n",
              "    }\n",
              "\n",
              "    .dataframe tbody tr th {\n",
              "        vertical-align: top;\n",
              "    }\n",
              "\n",
              "    .dataframe thead th {\n",
              "        text-align: right;\n",
              "    }\n",
              "</style>\n",
              "<table border=\"1\" class=\"dataframe\">\n",
              "  <thead>\n",
              "    <tr style=\"text-align: right;\">\n",
              "      <th></th>\n",
              "      <th>total</th>\n",
              "      <th>hombres</th>\n",
              "    </tr>\n",
              "  </thead>\n",
              "  <tbody>\n",
              "    <tr>\n",
              "      <th>Aguascalientes</th>\n",
              "      <td>1425607</td>\n",
              "      <td>696683</td>\n",
              "    </tr>\n",
              "    <tr>\n",
              "      <th>Guanajuato</th>\n",
              "      <td>6166934</td>\n",
              "      <td>2996454</td>\n",
              "    </tr>\n",
              "    <tr>\n",
              "      <th>Jalisco</th>\n",
              "      <td>8348151</td>\n",
              "      <td>4098455</td>\n",
              "    </tr>\n",
              "    <tr>\n",
              "      <th>CDMX</th>\n",
              "      <td>9209944</td>\n",
              "      <td>4404927</td>\n",
              "    </tr>\n",
              "    <tr>\n",
              "      <th>Querétaro</th>\n",
              "      <td>2368467</td>\n",
              "      <td>1156820</td>\n",
              "    </tr>\n",
              "  </tbody>\n",
              "</table>\n",
              "</div>"
            ],
            "text/plain": [
              "                  total  hombres\n",
              "Aguascalientes  1425607   696683\n",
              "Guanajuato      6166934  2996454\n",
              "Jalisco         8348151  4098455\n",
              "CDMX            9209944  4404927\n",
              "Querétaro       2368467  1156820"
            ]
          },
          "metadata": {
            "tags": []
          },
          "execution_count": 19
        }
      ]
    },
    {
      "cell_type": "markdown",
      "metadata": {
        "id": "sXXaPicaBjy6"
      },
      "source": [
        "guardamos el DataFrame con el nombre poblacion"
      ]
    },
    {
      "cell_type": "code",
      "metadata": {
        "colab": {
          "base_uri": "https://localhost:8080/",
          "height": 204
        },
        "id": "nItZodNl_jFg",
        "outputId": "d81dce17-93f8-4606-edef-be80c1dfad0f"
      },
      "source": [
        "poblacion = pd.DataFrame({'total': poblacion_dict,'hombres': hombres_dic}) \n",
        "poblacion"
      ],
      "execution_count": 20,
      "outputs": [
        {
          "output_type": "execute_result",
          "data": {
            "text/html": [
              "<div>\n",
              "<style scoped>\n",
              "    .dataframe tbody tr th:only-of-type {\n",
              "        vertical-align: middle;\n",
              "    }\n",
              "\n",
              "    .dataframe tbody tr th {\n",
              "        vertical-align: top;\n",
              "    }\n",
              "\n",
              "    .dataframe thead th {\n",
              "        text-align: right;\n",
              "    }\n",
              "</style>\n",
              "<table border=\"1\" class=\"dataframe\">\n",
              "  <thead>\n",
              "    <tr style=\"text-align: right;\">\n",
              "      <th></th>\n",
              "      <th>total</th>\n",
              "      <th>hombres</th>\n",
              "    </tr>\n",
              "  </thead>\n",
              "  <tbody>\n",
              "    <tr>\n",
              "      <th>Aguascalientes</th>\n",
              "      <td>1425607</td>\n",
              "      <td>696683</td>\n",
              "    </tr>\n",
              "    <tr>\n",
              "      <th>Guanajuato</th>\n",
              "      <td>6166934</td>\n",
              "      <td>2996454</td>\n",
              "    </tr>\n",
              "    <tr>\n",
              "      <th>Jalisco</th>\n",
              "      <td>8348151</td>\n",
              "      <td>4098455</td>\n",
              "    </tr>\n",
              "    <tr>\n",
              "      <th>CDMX</th>\n",
              "      <td>9209944</td>\n",
              "      <td>4404927</td>\n",
              "    </tr>\n",
              "    <tr>\n",
              "      <th>Querétaro</th>\n",
              "      <td>2368467</td>\n",
              "      <td>1156820</td>\n",
              "    </tr>\n",
              "  </tbody>\n",
              "</table>\n",
              "</div>"
            ],
            "text/plain": [
              "                  total  hombres\n",
              "Aguascalientes  1425607   696683\n",
              "Guanajuato      6166934  2996454\n",
              "Jalisco         8348151  4098455\n",
              "CDMX            9209944  4404927\n",
              "Querétaro       2368467  1156820"
            ]
          },
          "metadata": {
            "tags": []
          },
          "execution_count": 20
        }
      ]
    },
    {
      "cell_type": "markdown",
      "metadata": {
        "id": "Uud4X0hG7kbF"
      },
      "source": [
        "Un  ``DataFrame`` tiene además de los atributos ``values`` e ``index``, el atributo ``columns`` que es un índice que contiene las etiquetas de cada columna."
      ]
    },
    {
      "cell_type": "code",
      "metadata": {
        "colab": {
          "base_uri": "https://localhost:8080/"
        },
        "id": "y7DTWCkaC4W8",
        "outputId": "c399dd4a-6e51-4633-f5d7-70f769481298"
      },
      "source": [
        "poblacion.values   "
      ],
      "execution_count": 21,
      "outputs": [
        {
          "output_type": "execute_result",
          "data": {
            "text/plain": [
              "array([[1425607,  696683],\n",
              "       [6166934, 2996454],\n",
              "       [8348151, 4098455],\n",
              "       [9209944, 4404927],\n",
              "       [2368467, 1156820]])"
            ]
          },
          "metadata": {
            "tags": []
          },
          "execution_count": 21
        }
      ]
    },
    {
      "cell_type": "code",
      "metadata": {
        "colab": {
          "base_uri": "https://localhost:8080/"
        },
        "id": "8tVP5zk4DMyK",
        "outputId": "ab74a514-15de-405e-e58b-0ed3683ea6ef"
      },
      "source": [
        "poblacion.index"
      ],
      "execution_count": 22,
      "outputs": [
        {
          "output_type": "execute_result",
          "data": {
            "text/plain": [
              "Index(['Aguascalientes', 'Guanajuato', 'Jalisco', 'CDMX', 'Querétaro'], dtype='object')"
            ]
          },
          "metadata": {
            "tags": []
          },
          "execution_count": 22
        }
      ]
    },
    {
      "cell_type": "code",
      "metadata": {
        "id": "WZWNi1P_7kbF",
        "colab": {
          "base_uri": "https://localhost:8080/"
        },
        "outputId": "88a530af-af57-48a5-b76f-2f35e1ab226d"
      },
      "source": [
        "poblacion.columns"
      ],
      "execution_count": 23,
      "outputs": [
        {
          "output_type": "execute_result",
          "data": {
            "text/plain": [
              "Index(['total', 'hombres'], dtype='object')"
            ]
          },
          "metadata": {
            "tags": []
          },
          "execution_count": 23
        }
      ]
    },
    {
      "cell_type": "markdown",
      "metadata": {
        "id": "2WVEvdRM7kbG"
      },
      "source": [
        "Los DataFrame son también una especie de diccionario donde las columnas actuan como claves\n"
      ]
    },
    {
      "cell_type": "code",
      "metadata": {
        "id": "tAz_MI5H7kbG",
        "colab": {
          "base_uri": "https://localhost:8080/"
        },
        "outputId": "42532a5a-b580-4bbe-a7cd-bf755cecda06"
      },
      "source": [
        "poblacion['hombres']"
      ],
      "execution_count": 24,
      "outputs": [
        {
          "output_type": "execute_result",
          "data": {
            "text/plain": [
              "Aguascalientes     696683\n",
              "Guanajuato        2996454\n",
              "Jalisco           4098455\n",
              "CDMX              4404927\n",
              "Querétaro         1156820\n",
              "Name: hombres, dtype: int64"
            ]
          },
          "metadata": {
            "tags": []
          },
          "execution_count": 24
        }
      ]
    },
    {
      "cell_type": "markdown",
      "metadata": {
        "id": "kfkKq5KVJJ4T"
      },
      "source": [
        "pero no el índice (como ocurre para las Series)"
      ]
    },
    {
      "cell_type": "code",
      "metadata": {
        "colab": {
          "base_uri": "https://localhost:8080/",
          "height": 561
        },
        "id": "ubHtvLAhJEy0",
        "outputId": "16d895f1-f93a-41e2-d085-7801c4975464"
      },
      "source": [
        "poblacion['Guanajuato']"
      ],
      "execution_count": 25,
      "outputs": [
        {
          "output_type": "error",
          "ename": "KeyError",
          "evalue": "ignored",
          "traceback": [
            "\u001b[0;31m---------------------------------------------------------------------------\u001b[0m",
            "\u001b[0;31mKeyError\u001b[0m                                  Traceback (most recent call last)",
            "\u001b[0;32m/usr/local/lib/python3.7/dist-packages/pandas/core/indexes/base.py\u001b[0m in \u001b[0;36mget_loc\u001b[0;34m(self, key, method, tolerance)\u001b[0m\n\u001b[1;32m   2897\u001b[0m             \u001b[0;32mtry\u001b[0m\u001b[0;34m:\u001b[0m\u001b[0;34m\u001b[0m\u001b[0;34m\u001b[0m\u001b[0m\n\u001b[0;32m-> 2898\u001b[0;31m                 \u001b[0;32mreturn\u001b[0m \u001b[0mself\u001b[0m\u001b[0;34m.\u001b[0m\u001b[0m_engine\u001b[0m\u001b[0;34m.\u001b[0m\u001b[0mget_loc\u001b[0m\u001b[0;34m(\u001b[0m\u001b[0mcasted_key\u001b[0m\u001b[0;34m)\u001b[0m\u001b[0;34m\u001b[0m\u001b[0;34m\u001b[0m\u001b[0m\n\u001b[0m\u001b[1;32m   2899\u001b[0m             \u001b[0;32mexcept\u001b[0m \u001b[0mKeyError\u001b[0m \u001b[0;32mas\u001b[0m \u001b[0merr\u001b[0m\u001b[0;34m:\u001b[0m\u001b[0;34m\u001b[0m\u001b[0;34m\u001b[0m\u001b[0m\n",
            "\u001b[0;32mpandas/_libs/index.pyx\u001b[0m in \u001b[0;36mpandas._libs.index.IndexEngine.get_loc\u001b[0;34m()\u001b[0m\n",
            "\u001b[0;32mpandas/_libs/index.pyx\u001b[0m in \u001b[0;36mpandas._libs.index.IndexEngine.get_loc\u001b[0;34m()\u001b[0m\n",
            "\u001b[0;32mpandas/_libs/hashtable_class_helper.pxi\u001b[0m in \u001b[0;36mpandas._libs.hashtable.PyObjectHashTable.get_item\u001b[0;34m()\u001b[0m\n",
            "\u001b[0;32mpandas/_libs/hashtable_class_helper.pxi\u001b[0m in \u001b[0;36mpandas._libs.hashtable.PyObjectHashTable.get_item\u001b[0;34m()\u001b[0m\n",
            "\u001b[0;31mKeyError\u001b[0m: 'Guanajuato'",
            "\nThe above exception was the direct cause of the following exception:\n",
            "\u001b[0;31mKeyError\u001b[0m                                  Traceback (most recent call last)",
            "\u001b[0;32m<ipython-input-25-466a388c8736>\u001b[0m in \u001b[0;36m<module>\u001b[0;34m()\u001b[0m\n\u001b[0;32m----> 1\u001b[0;31m \u001b[0mpoblacion\u001b[0m\u001b[0;34m[\u001b[0m\u001b[0;34m'Guanajuato'\u001b[0m\u001b[0;34m]\u001b[0m\u001b[0;34m\u001b[0m\u001b[0;34m\u001b[0m\u001b[0m\n\u001b[0m",
            "\u001b[0;32m/usr/local/lib/python3.7/dist-packages/pandas/core/frame.py\u001b[0m in \u001b[0;36m__getitem__\u001b[0;34m(self, key)\u001b[0m\n\u001b[1;32m   2904\u001b[0m             \u001b[0;32mif\u001b[0m \u001b[0mself\u001b[0m\u001b[0;34m.\u001b[0m\u001b[0mcolumns\u001b[0m\u001b[0;34m.\u001b[0m\u001b[0mnlevels\u001b[0m \u001b[0;34m>\u001b[0m \u001b[0;36m1\u001b[0m\u001b[0;34m:\u001b[0m\u001b[0;34m\u001b[0m\u001b[0;34m\u001b[0m\u001b[0m\n\u001b[1;32m   2905\u001b[0m                 \u001b[0;32mreturn\u001b[0m \u001b[0mself\u001b[0m\u001b[0;34m.\u001b[0m\u001b[0m_getitem_multilevel\u001b[0m\u001b[0;34m(\u001b[0m\u001b[0mkey\u001b[0m\u001b[0;34m)\u001b[0m\u001b[0;34m\u001b[0m\u001b[0;34m\u001b[0m\u001b[0m\n\u001b[0;32m-> 2906\u001b[0;31m             \u001b[0mindexer\u001b[0m \u001b[0;34m=\u001b[0m \u001b[0mself\u001b[0m\u001b[0;34m.\u001b[0m\u001b[0mcolumns\u001b[0m\u001b[0;34m.\u001b[0m\u001b[0mget_loc\u001b[0m\u001b[0;34m(\u001b[0m\u001b[0mkey\u001b[0m\u001b[0;34m)\u001b[0m\u001b[0;34m\u001b[0m\u001b[0;34m\u001b[0m\u001b[0m\n\u001b[0m\u001b[1;32m   2907\u001b[0m             \u001b[0;32mif\u001b[0m \u001b[0mis_integer\u001b[0m\u001b[0;34m(\u001b[0m\u001b[0mindexer\u001b[0m\u001b[0;34m)\u001b[0m\u001b[0;34m:\u001b[0m\u001b[0;34m\u001b[0m\u001b[0;34m\u001b[0m\u001b[0m\n\u001b[1;32m   2908\u001b[0m                 \u001b[0mindexer\u001b[0m \u001b[0;34m=\u001b[0m \u001b[0;34m[\u001b[0m\u001b[0mindexer\u001b[0m\u001b[0;34m]\u001b[0m\u001b[0;34m\u001b[0m\u001b[0;34m\u001b[0m\u001b[0m\n",
            "\u001b[0;32m/usr/local/lib/python3.7/dist-packages/pandas/core/indexes/base.py\u001b[0m in \u001b[0;36mget_loc\u001b[0;34m(self, key, method, tolerance)\u001b[0m\n\u001b[1;32m   2898\u001b[0m                 \u001b[0;32mreturn\u001b[0m \u001b[0mself\u001b[0m\u001b[0;34m.\u001b[0m\u001b[0m_engine\u001b[0m\u001b[0;34m.\u001b[0m\u001b[0mget_loc\u001b[0m\u001b[0;34m(\u001b[0m\u001b[0mcasted_key\u001b[0m\u001b[0;34m)\u001b[0m\u001b[0;34m\u001b[0m\u001b[0;34m\u001b[0m\u001b[0m\n\u001b[1;32m   2899\u001b[0m             \u001b[0;32mexcept\u001b[0m \u001b[0mKeyError\u001b[0m \u001b[0;32mas\u001b[0m \u001b[0merr\u001b[0m\u001b[0;34m:\u001b[0m\u001b[0;34m\u001b[0m\u001b[0;34m\u001b[0m\u001b[0m\n\u001b[0;32m-> 2900\u001b[0;31m                 \u001b[0;32mraise\u001b[0m \u001b[0mKeyError\u001b[0m\u001b[0;34m(\u001b[0m\u001b[0mkey\u001b[0m\u001b[0;34m)\u001b[0m \u001b[0;32mfrom\u001b[0m \u001b[0merr\u001b[0m\u001b[0;34m\u001b[0m\u001b[0;34m\u001b[0m\u001b[0m\n\u001b[0m\u001b[1;32m   2901\u001b[0m \u001b[0;34m\u001b[0m\u001b[0m\n\u001b[1;32m   2902\u001b[0m         \u001b[0;32mif\u001b[0m \u001b[0mtolerance\u001b[0m \u001b[0;32mis\u001b[0m \u001b[0;32mnot\u001b[0m \u001b[0;32mNone\u001b[0m\u001b[0;34m:\u001b[0m\u001b[0;34m\u001b[0m\u001b[0;34m\u001b[0m\u001b[0m\n",
            "\u001b[0;31mKeyError\u001b[0m: 'Guanajuato'"
          ]
        }
      ]
    },
    {
      "cell_type": "markdown",
      "metadata": {
        "id": "FjASuaB-dIbs"
      },
      "source": [
        "al igual que los diccionarios, podemos agregar nuevas claves , y al igual que en NumPy podemos hacer opercion de vectores sin necesidad de recurrir a ciclos for"
      ]
    },
    {
      "cell_type": "code",
      "metadata": {
        "colab": {
          "base_uri": "https://localhost:8080/",
          "height": 204
        },
        "id": "SuB18igpc-SW",
        "outputId": "65edc8c0-41ec-487f-adcb-be7cc0b4df33"
      },
      "source": [
        "poblacion['mujeres'] = poblacion['total'] - poblacion['hombres']\n",
        "poblacion"
      ],
      "execution_count": 26,
      "outputs": [
        {
          "output_type": "execute_result",
          "data": {
            "text/html": [
              "<div>\n",
              "<style scoped>\n",
              "    .dataframe tbody tr th:only-of-type {\n",
              "        vertical-align: middle;\n",
              "    }\n",
              "\n",
              "    .dataframe tbody tr th {\n",
              "        vertical-align: top;\n",
              "    }\n",
              "\n",
              "    .dataframe thead th {\n",
              "        text-align: right;\n",
              "    }\n",
              "</style>\n",
              "<table border=\"1\" class=\"dataframe\">\n",
              "  <thead>\n",
              "    <tr style=\"text-align: right;\">\n",
              "      <th></th>\n",
              "      <th>total</th>\n",
              "      <th>hombres</th>\n",
              "      <th>mujeres</th>\n",
              "    </tr>\n",
              "  </thead>\n",
              "  <tbody>\n",
              "    <tr>\n",
              "      <th>Aguascalientes</th>\n",
              "      <td>1425607</td>\n",
              "      <td>696683</td>\n",
              "      <td>728924</td>\n",
              "    </tr>\n",
              "    <tr>\n",
              "      <th>Guanajuato</th>\n",
              "      <td>6166934</td>\n",
              "      <td>2996454</td>\n",
              "      <td>3170480</td>\n",
              "    </tr>\n",
              "    <tr>\n",
              "      <th>Jalisco</th>\n",
              "      <td>8348151</td>\n",
              "      <td>4098455</td>\n",
              "      <td>4249696</td>\n",
              "    </tr>\n",
              "    <tr>\n",
              "      <th>CDMX</th>\n",
              "      <td>9209944</td>\n",
              "      <td>4404927</td>\n",
              "      <td>4805017</td>\n",
              "    </tr>\n",
              "    <tr>\n",
              "      <th>Querétaro</th>\n",
              "      <td>2368467</td>\n",
              "      <td>1156820</td>\n",
              "      <td>1211647</td>\n",
              "    </tr>\n",
              "  </tbody>\n",
              "</table>\n",
              "</div>"
            ],
            "text/plain": [
              "                  total  hombres  mujeres\n",
              "Aguascalientes  1425607   696683   728924\n",
              "Guanajuato      6166934  2996454  3170480\n",
              "Jalisco         8348151  4098455  4249696\n",
              "CDMX            9209944  4404927  4805017\n",
              "Querétaro       2368467  1156820  1211647"
            ]
          },
          "metadata": {
            "tags": []
          },
          "execution_count": 26
        }
      ]
    },
    {
      "cell_type": "code",
      "metadata": {
        "id": "yaaBe6X4e9B4",
        "colab": {
          "base_uri": "https://localhost:8080/",
          "height": 204
        },
        "outputId": "906233d9-b8e1-4b34-f9e6-2899e34bd62d"
      },
      "source": [
        "poblacion['porcentaje_muj'] = poblacion['mujeres']/poblacion['total']\n",
        "poblacion"
      ],
      "execution_count": 27,
      "outputs": [
        {
          "output_type": "execute_result",
          "data": {
            "text/html": [
              "<div>\n",
              "<style scoped>\n",
              "    .dataframe tbody tr th:only-of-type {\n",
              "        vertical-align: middle;\n",
              "    }\n",
              "\n",
              "    .dataframe tbody tr th {\n",
              "        vertical-align: top;\n",
              "    }\n",
              "\n",
              "    .dataframe thead th {\n",
              "        text-align: right;\n",
              "    }\n",
              "</style>\n",
              "<table border=\"1\" class=\"dataframe\">\n",
              "  <thead>\n",
              "    <tr style=\"text-align: right;\">\n",
              "      <th></th>\n",
              "      <th>total</th>\n",
              "      <th>hombres</th>\n",
              "      <th>mujeres</th>\n",
              "      <th>porcentaje_muj</th>\n",
              "    </tr>\n",
              "  </thead>\n",
              "  <tbody>\n",
              "    <tr>\n",
              "      <th>Aguascalientes</th>\n",
              "      <td>1425607</td>\n",
              "      <td>696683</td>\n",
              "      <td>728924</td>\n",
              "      <td>0.511308</td>\n",
              "    </tr>\n",
              "    <tr>\n",
              "      <th>Guanajuato</th>\n",
              "      <td>6166934</td>\n",
              "      <td>2996454</td>\n",
              "      <td>3170480</td>\n",
              "      <td>0.514110</td>\n",
              "    </tr>\n",
              "    <tr>\n",
              "      <th>Jalisco</th>\n",
              "      <td>8348151</td>\n",
              "      <td>4098455</td>\n",
              "      <td>4249696</td>\n",
              "      <td>0.509058</td>\n",
              "    </tr>\n",
              "    <tr>\n",
              "      <th>CDMX</th>\n",
              "      <td>9209944</td>\n",
              "      <td>4404927</td>\n",
              "      <td>4805017</td>\n",
              "      <td>0.521721</td>\n",
              "    </tr>\n",
              "    <tr>\n",
              "      <th>Querétaro</th>\n",
              "      <td>2368467</td>\n",
              "      <td>1156820</td>\n",
              "      <td>1211647</td>\n",
              "      <td>0.511574</td>\n",
              "    </tr>\n",
              "  </tbody>\n",
              "</table>\n",
              "</div>"
            ],
            "text/plain": [
              "                  total  hombres  mujeres  porcentaje_muj\n",
              "Aguascalientes  1425607   696683   728924        0.511308\n",
              "Guanajuato      6166934  2996454  3170480        0.514110\n",
              "Jalisco         8348151  4098455  4249696        0.509058\n",
              "CDMX            9209944  4404927  4805017        0.521721\n",
              "Querétaro       2368467  1156820  1211647        0.511574"
            ]
          },
          "metadata": {
            "tags": []
          },
          "execution_count": 27
        }
      ]
    },
    {
      "cell_type": "markdown",
      "metadata": {
        "id": "EtACFikw7kbG"
      },
      "source": [
        "### Creación de DataFrame a partir de distintos objetos\n",
        "\n"
      ]
    },
    {
      "cell_type": "markdown",
      "metadata": {
        "id": "LnSZ--Ds7kbG"
      },
      "source": [
        "#### Desde una series"
      ]
    },
    {
      "cell_type": "code",
      "metadata": {
        "id": "BtmlfseJfVGY",
        "colab": {
          "base_uri": "https://localhost:8080/"
        },
        "outputId": "c1244e67-f1fa-4dea-85f7-f39872da337f"
      },
      "source": [
        "type(pob)"
      ],
      "execution_count": 28,
      "outputs": [
        {
          "output_type": "execute_result",
          "data": {
            "text/plain": [
              "pandas.core.series.Series"
            ]
          },
          "metadata": {
            "tags": []
          },
          "execution_count": 28
        }
      ]
    },
    {
      "cell_type": "code",
      "metadata": {
        "id": "dnS5p3b77kbH",
        "colab": {
          "base_uri": "https://localhost:8080/",
          "height": 0
        },
        "outputId": "349e6917-c90c-469b-eb74-ac3128e4dd09"
      },
      "source": [
        "pd.DataFrame(pob, columns=['total'])  #desde una serie"
      ],
      "execution_count": 29,
      "outputs": [
        {
          "output_type": "execute_result",
          "data": {
            "text/html": [
              "<div>\n",
              "<style scoped>\n",
              "    .dataframe tbody tr th:only-of-type {\n",
              "        vertical-align: middle;\n",
              "    }\n",
              "\n",
              "    .dataframe tbody tr th {\n",
              "        vertical-align: top;\n",
              "    }\n",
              "\n",
              "    .dataframe thead th {\n",
              "        text-align: right;\n",
              "    }\n",
              "</style>\n",
              "<table border=\"1\" class=\"dataframe\">\n",
              "  <thead>\n",
              "    <tr style=\"text-align: right;\">\n",
              "      <th></th>\n",
              "      <th>total</th>\n",
              "    </tr>\n",
              "  </thead>\n",
              "  <tbody>\n",
              "    <tr>\n",
              "      <th>Aguascalientes</th>\n",
              "      <td>1425607</td>\n",
              "    </tr>\n",
              "    <tr>\n",
              "      <th>Guanajuato</th>\n",
              "      <td>6166934</td>\n",
              "    </tr>\n",
              "    <tr>\n",
              "      <th>Jalisco</th>\n",
              "      <td>8348151</td>\n",
              "    </tr>\n",
              "    <tr>\n",
              "      <th>CDMX</th>\n",
              "      <td>9209944</td>\n",
              "    </tr>\n",
              "    <tr>\n",
              "      <th>Querétaro</th>\n",
              "      <td>2368467</td>\n",
              "    </tr>\n",
              "  </tbody>\n",
              "</table>\n",
              "</div>"
            ],
            "text/plain": [
              "                  total\n",
              "Aguascalientes  1425607\n",
              "Guanajuato      6166934\n",
              "Jalisco         8348151\n",
              "CDMX            9209944\n",
              "Querétaro       2368467"
            ]
          },
          "metadata": {
            "tags": []
          },
          "execution_count": 29
        }
      ]
    },
    {
      "cell_type": "markdown",
      "metadata": {
        "id": "cFnAcZbKY0qS"
      },
      "source": [
        "#### Desde un diccionario"
      ]
    },
    {
      "cell_type": "code",
      "metadata": {
        "id": "iYo6UNJVhEYz",
        "colab": {
          "base_uri": "https://localhost:8080/"
        },
        "outputId": "647bb607-617d-4e42-e395-2315ac8599ea"
      },
      "source": [
        "[{'longitud': i, 'área': i*i} for i in range(5)]"
      ],
      "execution_count": 30,
      "outputs": [
        {
          "output_type": "execute_result",
          "data": {
            "text/plain": [
              "[{'longitud': 0, 'área': 0},\n",
              " {'longitud': 1, 'área': 1},\n",
              " {'longitud': 2, 'área': 4},\n",
              " {'longitud': 3, 'área': 9},\n",
              " {'longitud': 4, 'área': 16}]"
            ]
          },
          "metadata": {
            "tags": []
          },
          "execution_count": 30
        }
      ]
    },
    {
      "cell_type": "code",
      "metadata": {
        "id": "_iGfArlW7kbH",
        "colab": {
          "base_uri": "https://localhost:8080/",
          "height": 0
        },
        "outputId": "493f2a48-96b2-4860-db49-778797e9fc4d"
      },
      "source": [
        "dimensiones = [{'longitud': i, 'área': i*i} for i in range(5)]\n",
        "pd.DataFrame(dimensiones)"
      ],
      "execution_count": 31,
      "outputs": [
        {
          "output_type": "execute_result",
          "data": {
            "text/html": [
              "<div>\n",
              "<style scoped>\n",
              "    .dataframe tbody tr th:only-of-type {\n",
              "        vertical-align: middle;\n",
              "    }\n",
              "\n",
              "    .dataframe tbody tr th {\n",
              "        vertical-align: top;\n",
              "    }\n",
              "\n",
              "    .dataframe thead th {\n",
              "        text-align: right;\n",
              "    }\n",
              "</style>\n",
              "<table border=\"1\" class=\"dataframe\">\n",
              "  <thead>\n",
              "    <tr style=\"text-align: right;\">\n",
              "      <th></th>\n",
              "      <th>longitud</th>\n",
              "      <th>área</th>\n",
              "    </tr>\n",
              "  </thead>\n",
              "  <tbody>\n",
              "    <tr>\n",
              "      <th>0</th>\n",
              "      <td>0</td>\n",
              "      <td>0</td>\n",
              "    </tr>\n",
              "    <tr>\n",
              "      <th>1</th>\n",
              "      <td>1</td>\n",
              "      <td>1</td>\n",
              "    </tr>\n",
              "    <tr>\n",
              "      <th>2</th>\n",
              "      <td>2</td>\n",
              "      <td>4</td>\n",
              "    </tr>\n",
              "    <tr>\n",
              "      <th>3</th>\n",
              "      <td>3</td>\n",
              "      <td>9</td>\n",
              "    </tr>\n",
              "    <tr>\n",
              "      <th>4</th>\n",
              "      <td>4</td>\n",
              "      <td>16</td>\n",
              "    </tr>\n",
              "  </tbody>\n",
              "</table>\n",
              "</div>"
            ],
            "text/plain": [
              "   longitud  área\n",
              "0         0     0\n",
              "1         1     1\n",
              "2         2     4\n",
              "3         3     9\n",
              "4         4    16"
            ]
          },
          "metadata": {
            "tags": []
          },
          "execution_count": 31
        }
      ]
    },
    {
      "cell_type": "markdown",
      "metadata": {
        "id": "p1OeJ5hj7kbJ"
      },
      "source": [
        "#### Desde una matriz de NumPy\n"
      ]
    },
    {
      "cell_type": "code",
      "metadata": {
        "id": "e3ZQAaur7kbJ",
        "colab": {
          "base_uri": "https://localhost:8080/",
          "height": 0
        },
        "outputId": "03cf72ef-df1e-455c-ce09-034cd625797c"
      },
      "source": [
        "pd.DataFrame(np.random.rand(5, 3),\n",
        "             columns=['columna1', 'columna2','columna3'],\n",
        "             index=['a', 'b', 'c', 'd', 'e']\n",
        "             )"
      ],
      "execution_count": 32,
      "outputs": [
        {
          "output_type": "execute_result",
          "data": {
            "text/html": [
              "<div>\n",
              "<style scoped>\n",
              "    .dataframe tbody tr th:only-of-type {\n",
              "        vertical-align: middle;\n",
              "    }\n",
              "\n",
              "    .dataframe tbody tr th {\n",
              "        vertical-align: top;\n",
              "    }\n",
              "\n",
              "    .dataframe thead th {\n",
              "        text-align: right;\n",
              "    }\n",
              "</style>\n",
              "<table border=\"1\" class=\"dataframe\">\n",
              "  <thead>\n",
              "    <tr style=\"text-align: right;\">\n",
              "      <th></th>\n",
              "      <th>columna1</th>\n",
              "      <th>columna2</th>\n",
              "      <th>columna3</th>\n",
              "    </tr>\n",
              "  </thead>\n",
              "  <tbody>\n",
              "    <tr>\n",
              "      <th>a</th>\n",
              "      <td>0.972928</td>\n",
              "      <td>0.357418</td>\n",
              "      <td>0.972611</td>\n",
              "    </tr>\n",
              "    <tr>\n",
              "      <th>b</th>\n",
              "      <td>0.182410</td>\n",
              "      <td>0.864945</td>\n",
              "      <td>0.153083</td>\n",
              "    </tr>\n",
              "    <tr>\n",
              "      <th>c</th>\n",
              "      <td>0.805725</td>\n",
              "      <td>0.146956</td>\n",
              "      <td>0.966875</td>\n",
              "    </tr>\n",
              "    <tr>\n",
              "      <th>d</th>\n",
              "      <td>0.769963</td>\n",
              "      <td>0.969331</td>\n",
              "      <td>0.246125</td>\n",
              "    </tr>\n",
              "    <tr>\n",
              "      <th>e</th>\n",
              "      <td>0.323596</td>\n",
              "      <td>0.703041</td>\n",
              "      <td>0.025814</td>\n",
              "    </tr>\n",
              "  </tbody>\n",
              "</table>\n",
              "</div>"
            ],
            "text/plain": [
              "   columna1  columna2  columna3\n",
              "a  0.972928  0.357418  0.972611\n",
              "b  0.182410  0.864945  0.153083\n",
              "c  0.805725  0.146956  0.966875\n",
              "d  0.769963  0.969331  0.246125\n",
              "e  0.323596  0.703041  0.025814"
            ]
          },
          "metadata": {
            "tags": []
          },
          "execution_count": 32
        }
      ]
    },
    {
      "cell_type": "markdown",
      "metadata": {
        "id": "xyjiUgMedjcs"
      },
      "source": [
        "## Lectura de archivos csv como DataFrames"
      ]
    },
    {
      "cell_type": "code",
      "metadata": {
        "colab": {
          "base_uri": "https://localhost:8080/"
        },
        "id": "U_ZrQaiD7PYQ",
        "outputId": "b6899c45-3dfc-405e-bed2-649e2168093d"
      },
      "source": [
        "#Leer datos mediante la función csv\n",
        "\n",
        "titanic = pd.read_csv(\"https://web.stanford.edu/class/archive/cs/cs109/cs109.1166/stuff/titanic.csv\")\n",
        "type(titanic)"
      ],
      "execution_count": 33,
      "outputs": [
        {
          "output_type": "execute_result",
          "data": {
            "text/plain": [
              "pandas.core.frame.DataFrame"
            ]
          },
          "metadata": {
            "tags": []
          },
          "execution_count": 33
        }
      ]
    },
    {
      "cell_type": "code",
      "metadata": {
        "colab": {
          "base_uri": "https://localhost:8080/",
          "height": 0
        },
        "id": "W8i3NniA7PYR",
        "outputId": "c80dce34-6d22-4c57-b058-cdbb03674534"
      },
      "source": [
        "titanic"
      ],
      "execution_count": 34,
      "outputs": [
        {
          "output_type": "execute_result",
          "data": {
            "text/html": [
              "<div>\n",
              "<style scoped>\n",
              "    .dataframe tbody tr th:only-of-type {\n",
              "        vertical-align: middle;\n",
              "    }\n",
              "\n",
              "    .dataframe tbody tr th {\n",
              "        vertical-align: top;\n",
              "    }\n",
              "\n",
              "    .dataframe thead th {\n",
              "        text-align: right;\n",
              "    }\n",
              "</style>\n",
              "<table border=\"1\" class=\"dataframe\">\n",
              "  <thead>\n",
              "    <tr style=\"text-align: right;\">\n",
              "      <th></th>\n",
              "      <th>Survived</th>\n",
              "      <th>Pclass</th>\n",
              "      <th>Name</th>\n",
              "      <th>Sex</th>\n",
              "      <th>Age</th>\n",
              "      <th>Siblings/Spouses Aboard</th>\n",
              "      <th>Parents/Children Aboard</th>\n",
              "      <th>Fare</th>\n",
              "    </tr>\n",
              "  </thead>\n",
              "  <tbody>\n",
              "    <tr>\n",
              "      <th>0</th>\n",
              "      <td>0</td>\n",
              "      <td>3</td>\n",
              "      <td>Mr. Owen Harris Braund</td>\n",
              "      <td>male</td>\n",
              "      <td>22.0</td>\n",
              "      <td>1</td>\n",
              "      <td>0</td>\n",
              "      <td>7.2500</td>\n",
              "    </tr>\n",
              "    <tr>\n",
              "      <th>1</th>\n",
              "      <td>1</td>\n",
              "      <td>1</td>\n",
              "      <td>Mrs. John Bradley (Florence Briggs Thayer) Cum...</td>\n",
              "      <td>female</td>\n",
              "      <td>38.0</td>\n",
              "      <td>1</td>\n",
              "      <td>0</td>\n",
              "      <td>71.2833</td>\n",
              "    </tr>\n",
              "    <tr>\n",
              "      <th>2</th>\n",
              "      <td>1</td>\n",
              "      <td>3</td>\n",
              "      <td>Miss. Laina Heikkinen</td>\n",
              "      <td>female</td>\n",
              "      <td>26.0</td>\n",
              "      <td>0</td>\n",
              "      <td>0</td>\n",
              "      <td>7.9250</td>\n",
              "    </tr>\n",
              "    <tr>\n",
              "      <th>3</th>\n",
              "      <td>1</td>\n",
              "      <td>1</td>\n",
              "      <td>Mrs. Jacques Heath (Lily May Peel) Futrelle</td>\n",
              "      <td>female</td>\n",
              "      <td>35.0</td>\n",
              "      <td>1</td>\n",
              "      <td>0</td>\n",
              "      <td>53.1000</td>\n",
              "    </tr>\n",
              "    <tr>\n",
              "      <th>4</th>\n",
              "      <td>0</td>\n",
              "      <td>3</td>\n",
              "      <td>Mr. William Henry Allen</td>\n",
              "      <td>male</td>\n",
              "      <td>35.0</td>\n",
              "      <td>0</td>\n",
              "      <td>0</td>\n",
              "      <td>8.0500</td>\n",
              "    </tr>\n",
              "    <tr>\n",
              "      <th>...</th>\n",
              "      <td>...</td>\n",
              "      <td>...</td>\n",
              "      <td>...</td>\n",
              "      <td>...</td>\n",
              "      <td>...</td>\n",
              "      <td>...</td>\n",
              "      <td>...</td>\n",
              "      <td>...</td>\n",
              "    </tr>\n",
              "    <tr>\n",
              "      <th>882</th>\n",
              "      <td>0</td>\n",
              "      <td>2</td>\n",
              "      <td>Rev. Juozas Montvila</td>\n",
              "      <td>male</td>\n",
              "      <td>27.0</td>\n",
              "      <td>0</td>\n",
              "      <td>0</td>\n",
              "      <td>13.0000</td>\n",
              "    </tr>\n",
              "    <tr>\n",
              "      <th>883</th>\n",
              "      <td>1</td>\n",
              "      <td>1</td>\n",
              "      <td>Miss. Margaret Edith Graham</td>\n",
              "      <td>female</td>\n",
              "      <td>19.0</td>\n",
              "      <td>0</td>\n",
              "      <td>0</td>\n",
              "      <td>30.0000</td>\n",
              "    </tr>\n",
              "    <tr>\n",
              "      <th>884</th>\n",
              "      <td>0</td>\n",
              "      <td>3</td>\n",
              "      <td>Miss. Catherine Helen Johnston</td>\n",
              "      <td>female</td>\n",
              "      <td>7.0</td>\n",
              "      <td>1</td>\n",
              "      <td>2</td>\n",
              "      <td>23.4500</td>\n",
              "    </tr>\n",
              "    <tr>\n",
              "      <th>885</th>\n",
              "      <td>1</td>\n",
              "      <td>1</td>\n",
              "      <td>Mr. Karl Howell Behr</td>\n",
              "      <td>male</td>\n",
              "      <td>26.0</td>\n",
              "      <td>0</td>\n",
              "      <td>0</td>\n",
              "      <td>30.0000</td>\n",
              "    </tr>\n",
              "    <tr>\n",
              "      <th>886</th>\n",
              "      <td>0</td>\n",
              "      <td>3</td>\n",
              "      <td>Mr. Patrick Dooley</td>\n",
              "      <td>male</td>\n",
              "      <td>32.0</td>\n",
              "      <td>0</td>\n",
              "      <td>0</td>\n",
              "      <td>7.7500</td>\n",
              "    </tr>\n",
              "  </tbody>\n",
              "</table>\n",
              "<p>887 rows × 8 columns</p>\n",
              "</div>"
            ],
            "text/plain": [
              "     Survived  Pclass  ... Parents/Children Aboard     Fare\n",
              "0           0       3  ...                       0   7.2500\n",
              "1           1       1  ...                       0  71.2833\n",
              "2           1       3  ...                       0   7.9250\n",
              "3           1       1  ...                       0  53.1000\n",
              "4           0       3  ...                       0   8.0500\n",
              "..        ...     ...  ...                     ...      ...\n",
              "882         0       2  ...                       0  13.0000\n",
              "883         1       1  ...                       0  30.0000\n",
              "884         0       3  ...                       2  23.4500\n",
              "885         1       1  ...                       0  30.0000\n",
              "886         0       3  ...                       0   7.7500\n",
              "\n",
              "[887 rows x 8 columns]"
            ]
          },
          "metadata": {
            "tags": []
          },
          "execution_count": 34
        }
      ]
    },
    {
      "cell_type": "code",
      "metadata": {
        "colab": {
          "base_uri": "https://localhost:8080/",
          "height": 0
        },
        "id": "JX0CQobE7PYR",
        "outputId": "59a37d82-78f5-4fb0-b846-0450f272fb1b"
      },
      "source": [
        "titanic = titanic.set_index(\"Name\")\n",
        "titanic.head()"
      ],
      "execution_count": 35,
      "outputs": [
        {
          "output_type": "execute_result",
          "data": {
            "text/html": [
              "<div>\n",
              "<style scoped>\n",
              "    .dataframe tbody tr th:only-of-type {\n",
              "        vertical-align: middle;\n",
              "    }\n",
              "\n",
              "    .dataframe tbody tr th {\n",
              "        vertical-align: top;\n",
              "    }\n",
              "\n",
              "    .dataframe thead th {\n",
              "        text-align: right;\n",
              "    }\n",
              "</style>\n",
              "<table border=\"1\" class=\"dataframe\">\n",
              "  <thead>\n",
              "    <tr style=\"text-align: right;\">\n",
              "      <th></th>\n",
              "      <th>Survived</th>\n",
              "      <th>Pclass</th>\n",
              "      <th>Sex</th>\n",
              "      <th>Age</th>\n",
              "      <th>Siblings/Spouses Aboard</th>\n",
              "      <th>Parents/Children Aboard</th>\n",
              "      <th>Fare</th>\n",
              "    </tr>\n",
              "    <tr>\n",
              "      <th>Name</th>\n",
              "      <th></th>\n",
              "      <th></th>\n",
              "      <th></th>\n",
              "      <th></th>\n",
              "      <th></th>\n",
              "      <th></th>\n",
              "      <th></th>\n",
              "    </tr>\n",
              "  </thead>\n",
              "  <tbody>\n",
              "    <tr>\n",
              "      <th>Mr. Owen Harris Braund</th>\n",
              "      <td>0</td>\n",
              "      <td>3</td>\n",
              "      <td>male</td>\n",
              "      <td>22.0</td>\n",
              "      <td>1</td>\n",
              "      <td>0</td>\n",
              "      <td>7.2500</td>\n",
              "    </tr>\n",
              "    <tr>\n",
              "      <th>Mrs. John Bradley (Florence Briggs Thayer) Cumings</th>\n",
              "      <td>1</td>\n",
              "      <td>1</td>\n",
              "      <td>female</td>\n",
              "      <td>38.0</td>\n",
              "      <td>1</td>\n",
              "      <td>0</td>\n",
              "      <td>71.2833</td>\n",
              "    </tr>\n",
              "    <tr>\n",
              "      <th>Miss. Laina Heikkinen</th>\n",
              "      <td>1</td>\n",
              "      <td>3</td>\n",
              "      <td>female</td>\n",
              "      <td>26.0</td>\n",
              "      <td>0</td>\n",
              "      <td>0</td>\n",
              "      <td>7.9250</td>\n",
              "    </tr>\n",
              "    <tr>\n",
              "      <th>Mrs. Jacques Heath (Lily May Peel) Futrelle</th>\n",
              "      <td>1</td>\n",
              "      <td>1</td>\n",
              "      <td>female</td>\n",
              "      <td>35.0</td>\n",
              "      <td>1</td>\n",
              "      <td>0</td>\n",
              "      <td>53.1000</td>\n",
              "    </tr>\n",
              "    <tr>\n",
              "      <th>Mr. William Henry Allen</th>\n",
              "      <td>0</td>\n",
              "      <td>3</td>\n",
              "      <td>male</td>\n",
              "      <td>35.0</td>\n",
              "      <td>0</td>\n",
              "      <td>0</td>\n",
              "      <td>8.0500</td>\n",
              "    </tr>\n",
              "  </tbody>\n",
              "</table>\n",
              "</div>"
            ],
            "text/plain": [
              "                                                    Survived  ...     Fare\n",
              "Name                                                          ...         \n",
              "Mr. Owen Harris Braund                                     0  ...   7.2500\n",
              "Mrs. John Bradley (Florence Briggs Thayer) Cumings         1  ...  71.2833\n",
              "Miss. Laina Heikkinen                                      1  ...   7.9250\n",
              "Mrs. Jacques Heath (Lily May Peel) Futrelle                1  ...  53.1000\n",
              "Mr. William Henry Allen                                    0  ...   8.0500\n",
              "\n",
              "[5 rows x 7 columns]"
            ]
          },
          "metadata": {
            "tags": []
          },
          "execution_count": 35
        }
      ]
    },
    {
      "cell_type": "code",
      "metadata": {
        "colab": {
          "base_uri": "https://localhost:8080/"
        },
        "id": "xR7tYKnr7PYR",
        "outputId": "188dca00-40b7-497e-86a8-3bb4b78b8b76"
      },
      "source": [
        "titanic.columns\n"
      ],
      "execution_count": 36,
      "outputs": [
        {
          "output_type": "execute_result",
          "data": {
            "text/plain": [
              "Index(['Survived', 'Pclass', 'Sex', 'Age', 'Siblings/Spouses Aboard',\n",
              "       'Parents/Children Aboard', 'Fare'],\n",
              "      dtype='object')"
            ]
          },
          "metadata": {
            "tags": []
          },
          "execution_count": 36
        }
      ]
    },
    {
      "cell_type": "code",
      "metadata": {
        "colab": {
          "base_uri": "https://localhost:8080/"
        },
        "id": "agBU06Fk7PYS",
        "outputId": "a64edaeb-e8b4-4d72-98a1-c063424f1422"
      },
      "source": [
        "titanic.index"
      ],
      "execution_count": 37,
      "outputs": [
        {
          "output_type": "execute_result",
          "data": {
            "text/plain": [
              "Index(['Mr. Owen Harris Braund',\n",
              "       'Mrs. John Bradley (Florence Briggs Thayer) Cumings',\n",
              "       'Miss. Laina Heikkinen', 'Mrs. Jacques Heath (Lily May Peel) Futrelle',\n",
              "       'Mr. William Henry Allen', 'Mr. James Moran', 'Mr. Timothy J McCarthy',\n",
              "       'Master. Gosta Leonard Palsson',\n",
              "       'Mrs. Oscar W (Elisabeth Vilhelmina Berg) Johnson',\n",
              "       'Mrs. Nicholas (Adele Achem) Nasser',\n",
              "       ...\n",
              "       'Mr. Johann Markun', 'Miss. Gerda Ulrika Dahlberg',\n",
              "       'Mr. Frederick James Banfield', 'Mr. Henry Jr Sutehall',\n",
              "       'Mrs. William (Margaret Norton) Rice', 'Rev. Juozas Montvila',\n",
              "       'Miss. Margaret Edith Graham', 'Miss. Catherine Helen Johnston',\n",
              "       'Mr. Karl Howell Behr', 'Mr. Patrick Dooley'],\n",
              "      dtype='object', name='Name', length=887)"
            ]
          },
          "metadata": {
            "tags": []
          },
          "execution_count": 37
        }
      ]
    },
    {
      "cell_type": "code",
      "metadata": {
        "id": "i8wQ3GTejnBg",
        "colab": {
          "base_uri": "https://localhost:8080/"
        },
        "outputId": "17d4d0fa-7656-4496-a0c0-bd33b01070ed"
      },
      "source": [
        "titanic.values"
      ],
      "execution_count": 38,
      "outputs": [
        {
          "output_type": "execute_result",
          "data": {
            "text/plain": [
              "array([[0, 3, 'male', ..., 1, 0, 7.25],\n",
              "       [1, 1, 'female', ..., 1, 0, 71.2833],\n",
              "       [1, 3, 'female', ..., 0, 0, 7.925],\n",
              "       ...,\n",
              "       [0, 3, 'female', ..., 1, 2, 23.45],\n",
              "       [1, 1, 'male', ..., 0, 0, 30.0],\n",
              "       [0, 3, 'male', ..., 0, 0, 7.75]], dtype=object)"
            ]
          },
          "metadata": {
            "tags": []
          },
          "execution_count": 38
        }
      ]
    },
    {
      "cell_type": "code",
      "metadata": {
        "colab": {
          "base_uri": "https://localhost:8080/"
        },
        "id": "XYEetM7Y7PYS",
        "outputId": "db4dc053-effd-4f3f-e03b-4a387a8d022c"
      },
      "source": [
        "## Una sola columna del datafreme es una Serie\n",
        "\n",
        "edad = titanic['Age']\n",
        "type(edad)"
      ],
      "execution_count": 39,
      "outputs": [
        {
          "output_type": "execute_result",
          "data": {
            "text/plain": [
              "pandas.core.series.Series"
            ]
          },
          "metadata": {
            "tags": []
          },
          "execution_count": 39
        }
      ]
    },
    {
      "cell_type": "code",
      "metadata": {
        "colab": {
          "base_uri": "https://localhost:8080/"
        },
        "id": "-_OSQ1pu7PYS",
        "outputId": "4200b572-92e8-4b63-b17f-146af9537d48"
      },
      "source": [
        "edad"
      ],
      "execution_count": 40,
      "outputs": [
        {
          "output_type": "execute_result",
          "data": {
            "text/plain": [
              "Name\n",
              "Mr. Owen Harris Braund                                22.0\n",
              "Mrs. John Bradley (Florence Briggs Thayer) Cumings    38.0\n",
              "Miss. Laina Heikkinen                                 26.0\n",
              "Mrs. Jacques Heath (Lily May Peel) Futrelle           35.0\n",
              "Mr. William Henry Allen                               35.0\n",
              "                                                      ... \n",
              "Rev. Juozas Montvila                                  27.0\n",
              "Miss. Margaret Edith Graham                           19.0\n",
              "Miss. Catherine Helen Johnston                         7.0\n",
              "Mr. Karl Howell Behr                                  26.0\n",
              "Mr. Patrick Dooley                                    32.0\n",
              "Name: Age, Length: 887, dtype: float64"
            ]
          },
          "metadata": {
            "tags": []
          },
          "execution_count": 40
        }
      ]
    },
    {
      "cell_type": "markdown",
      "metadata": {
        "id": "45lYapX97PYT"
      },
      "source": [
        "### Funciones, métodos y atributos .\n"
      ]
    },
    {
      "cell_type": "code",
      "metadata": {
        "id": "MSaRbly1oB_h",
        "colab": {
          "base_uri": "https://localhost:8080/",
          "height": 0
        },
        "outputId": "9ab79e7b-7203-43dc-8a2e-c9438e82bdd8"
      },
      "source": [
        "titanic.head(3)"
      ],
      "execution_count": 41,
      "outputs": [
        {
          "output_type": "execute_result",
          "data": {
            "text/html": [
              "<div>\n",
              "<style scoped>\n",
              "    .dataframe tbody tr th:only-of-type {\n",
              "        vertical-align: middle;\n",
              "    }\n",
              "\n",
              "    .dataframe tbody tr th {\n",
              "        vertical-align: top;\n",
              "    }\n",
              "\n",
              "    .dataframe thead th {\n",
              "        text-align: right;\n",
              "    }\n",
              "</style>\n",
              "<table border=\"1\" class=\"dataframe\">\n",
              "  <thead>\n",
              "    <tr style=\"text-align: right;\">\n",
              "      <th></th>\n",
              "      <th>Survived</th>\n",
              "      <th>Pclass</th>\n",
              "      <th>Sex</th>\n",
              "      <th>Age</th>\n",
              "      <th>Siblings/Spouses Aboard</th>\n",
              "      <th>Parents/Children Aboard</th>\n",
              "      <th>Fare</th>\n",
              "    </tr>\n",
              "    <tr>\n",
              "      <th>Name</th>\n",
              "      <th></th>\n",
              "      <th></th>\n",
              "      <th></th>\n",
              "      <th></th>\n",
              "      <th></th>\n",
              "      <th></th>\n",
              "      <th></th>\n",
              "    </tr>\n",
              "  </thead>\n",
              "  <tbody>\n",
              "    <tr>\n",
              "      <th>Mr. Owen Harris Braund</th>\n",
              "      <td>0</td>\n",
              "      <td>3</td>\n",
              "      <td>male</td>\n",
              "      <td>22.0</td>\n",
              "      <td>1</td>\n",
              "      <td>0</td>\n",
              "      <td>7.2500</td>\n",
              "    </tr>\n",
              "    <tr>\n",
              "      <th>Mrs. John Bradley (Florence Briggs Thayer) Cumings</th>\n",
              "      <td>1</td>\n",
              "      <td>1</td>\n",
              "      <td>female</td>\n",
              "      <td>38.0</td>\n",
              "      <td>1</td>\n",
              "      <td>0</td>\n",
              "      <td>71.2833</td>\n",
              "    </tr>\n",
              "    <tr>\n",
              "      <th>Miss. Laina Heikkinen</th>\n",
              "      <td>1</td>\n",
              "      <td>3</td>\n",
              "      <td>female</td>\n",
              "      <td>26.0</td>\n",
              "      <td>0</td>\n",
              "      <td>0</td>\n",
              "      <td>7.9250</td>\n",
              "    </tr>\n",
              "  </tbody>\n",
              "</table>\n",
              "</div>"
            ],
            "text/plain": [
              "                                                    Survived  ...     Fare\n",
              "Name                                                          ...         \n",
              "Mr. Owen Harris Braund                                     0  ...   7.2500\n",
              "Mrs. John Bradley (Florence Briggs Thayer) Cumings         1  ...  71.2833\n",
              "Miss. Laina Heikkinen                                      1  ...   7.9250\n",
              "\n",
              "[3 rows x 7 columns]"
            ]
          },
          "metadata": {
            "tags": []
          },
          "execution_count": 41
        }
      ]
    },
    {
      "cell_type": "code",
      "metadata": {
        "id": "_nb_mQeT7PYU",
        "colab": {
          "base_uri": "https://localhost:8080/"
        },
        "outputId": "06b5643e-8d4b-4071-8361-963d0051f73d"
      },
      "source": [
        "titanic.info() #regresa el numero de renglones, el número de columnas, los nombres de las columnas, \n",
        "                #la cantidad de datos faltanes, la clase de cada variable"
      ],
      "execution_count": 42,
      "outputs": [
        {
          "output_type": "stream",
          "text": [
            "<class 'pandas.core.frame.DataFrame'>\n",
            "Index: 887 entries, Mr. Owen Harris Braund to Mr. Patrick Dooley\n",
            "Data columns (total 7 columns):\n",
            " #   Column                   Non-Null Count  Dtype  \n",
            "---  ------                   --------------  -----  \n",
            " 0   Survived                 887 non-null    int64  \n",
            " 1   Pclass                   887 non-null    int64  \n",
            " 2   Sex                      887 non-null    object \n",
            " 3   Age                      887 non-null    float64\n",
            " 4   Siblings/Spouses Aboard  887 non-null    int64  \n",
            " 5   Parents/Children Aboard  887 non-null    int64  \n",
            " 6   Fare                     887 non-null    float64\n",
            "dtypes: float64(2), int64(4), object(1)\n",
            "memory usage: 95.4+ KB\n"
          ],
          "name": "stdout"
        }
      ]
    },
    {
      "cell_type": "code",
      "metadata": {
        "colab": {
          "base_uri": "https://localhost:8080/",
          "height": 0
        },
        "id": "GQ2W81287PYU",
        "outputId": "754bf368-b3ea-492d-f7c3-9b138007157c"
      },
      "source": [
        "titanic.describe()  "
      ],
      "execution_count": 43,
      "outputs": [
        {
          "output_type": "execute_result",
          "data": {
            "text/html": [
              "<div>\n",
              "<style scoped>\n",
              "    .dataframe tbody tr th:only-of-type {\n",
              "        vertical-align: middle;\n",
              "    }\n",
              "\n",
              "    .dataframe tbody tr th {\n",
              "        vertical-align: top;\n",
              "    }\n",
              "\n",
              "    .dataframe thead th {\n",
              "        text-align: right;\n",
              "    }\n",
              "</style>\n",
              "<table border=\"1\" class=\"dataframe\">\n",
              "  <thead>\n",
              "    <tr style=\"text-align: right;\">\n",
              "      <th></th>\n",
              "      <th>Survived</th>\n",
              "      <th>Pclass</th>\n",
              "      <th>Age</th>\n",
              "      <th>Siblings/Spouses Aboard</th>\n",
              "      <th>Parents/Children Aboard</th>\n",
              "      <th>Fare</th>\n",
              "    </tr>\n",
              "  </thead>\n",
              "  <tbody>\n",
              "    <tr>\n",
              "      <th>count</th>\n",
              "      <td>887.000000</td>\n",
              "      <td>887.000000</td>\n",
              "      <td>887.000000</td>\n",
              "      <td>887.000000</td>\n",
              "      <td>887.000000</td>\n",
              "      <td>887.00000</td>\n",
              "    </tr>\n",
              "    <tr>\n",
              "      <th>mean</th>\n",
              "      <td>0.385569</td>\n",
              "      <td>2.305524</td>\n",
              "      <td>29.471443</td>\n",
              "      <td>0.525366</td>\n",
              "      <td>0.383315</td>\n",
              "      <td>32.30542</td>\n",
              "    </tr>\n",
              "    <tr>\n",
              "      <th>std</th>\n",
              "      <td>0.487004</td>\n",
              "      <td>0.836662</td>\n",
              "      <td>14.121908</td>\n",
              "      <td>1.104669</td>\n",
              "      <td>0.807466</td>\n",
              "      <td>49.78204</td>\n",
              "    </tr>\n",
              "    <tr>\n",
              "      <th>min</th>\n",
              "      <td>0.000000</td>\n",
              "      <td>1.000000</td>\n",
              "      <td>0.420000</td>\n",
              "      <td>0.000000</td>\n",
              "      <td>0.000000</td>\n",
              "      <td>0.00000</td>\n",
              "    </tr>\n",
              "    <tr>\n",
              "      <th>25%</th>\n",
              "      <td>0.000000</td>\n",
              "      <td>2.000000</td>\n",
              "      <td>20.250000</td>\n",
              "      <td>0.000000</td>\n",
              "      <td>0.000000</td>\n",
              "      <td>7.92500</td>\n",
              "    </tr>\n",
              "    <tr>\n",
              "      <th>50%</th>\n",
              "      <td>0.000000</td>\n",
              "      <td>3.000000</td>\n",
              "      <td>28.000000</td>\n",
              "      <td>0.000000</td>\n",
              "      <td>0.000000</td>\n",
              "      <td>14.45420</td>\n",
              "    </tr>\n",
              "    <tr>\n",
              "      <th>75%</th>\n",
              "      <td>1.000000</td>\n",
              "      <td>3.000000</td>\n",
              "      <td>38.000000</td>\n",
              "      <td>1.000000</td>\n",
              "      <td>0.000000</td>\n",
              "      <td>31.13750</td>\n",
              "    </tr>\n",
              "    <tr>\n",
              "      <th>max</th>\n",
              "      <td>1.000000</td>\n",
              "      <td>3.000000</td>\n",
              "      <td>80.000000</td>\n",
              "      <td>8.000000</td>\n",
              "      <td>6.000000</td>\n",
              "      <td>512.32920</td>\n",
              "    </tr>\n",
              "  </tbody>\n",
              "</table>\n",
              "</div>"
            ],
            "text/plain": [
              "         Survived      Pclass  ...  Parents/Children Aboard       Fare\n",
              "count  887.000000  887.000000  ...               887.000000  887.00000\n",
              "mean     0.385569    2.305524  ...                 0.383315   32.30542\n",
              "std      0.487004    0.836662  ...                 0.807466   49.78204\n",
              "min      0.000000    1.000000  ...                 0.000000    0.00000\n",
              "25%      0.000000    2.000000  ...                 0.000000    7.92500\n",
              "50%      0.000000    3.000000  ...                 0.000000   14.45420\n",
              "75%      1.000000    3.000000  ...                 0.000000   31.13750\n",
              "max      1.000000    3.000000  ...                 6.000000  512.32920\n",
              "\n",
              "[8 rows x 6 columns]"
            ]
          },
          "metadata": {
            "tags": []
          },
          "execution_count": 43
        }
      ]
    },
    {
      "cell_type": "code",
      "metadata": {
        "colab": {
          "base_uri": "https://localhost:8080/"
        },
        "id": "kXnUvJRK7PYU",
        "outputId": "7fea5b8b-ed60-46ff-ed64-aabd4c3c9391"
      },
      "source": [
        "#ver la cantidad de renglones y de columnas utilizando el atributo shape\n",
        "print('dimensiones: ', titanic.shape)\n",
        "print('\\nrenglones: ', titanic.shape[0])\n",
        "print('columnas:  ', titanic.shape[1])"
      ],
      "execution_count": 44,
      "outputs": [
        {
          "output_type": "stream",
          "text": [
            "dimensiones:  (887, 7)\n",
            "\n",
            "renglones:  887\n",
            "columnas:   7\n"
          ],
          "name": "stdout"
        }
      ]
    },
    {
      "cell_type": "code",
      "metadata": {
        "colab": {
          "base_uri": "https://localhost:8080/"
        },
        "id": "sBpAUUha7PYV",
        "outputId": "3f6bfde2-4332-46f1-8863-35468e92f2e2"
      },
      "source": [
        "#regresa el número de valores en cada variable \n",
        "titanic.nunique()  "
      ],
      "execution_count": 45,
      "outputs": [
        {
          "output_type": "execute_result",
          "data": {
            "text/plain": [
              "Survived                     2\n",
              "Pclass                       3\n",
              "Sex                          2\n",
              "Age                         89\n",
              "Siblings/Spouses Aboard      7\n",
              "Parents/Children Aboard      7\n",
              "Fare                       248\n",
              "dtype: int64"
            ]
          },
          "metadata": {
            "tags": []
          },
          "execution_count": 45
        }
      ]
    },
    {
      "cell_type": "markdown",
      "metadata": {
        "id": "Of70gt0uFxmc"
      },
      "source": [
        "Para conocer la distribución y los valores de cada columna utilizamos el método value_counts() que es un método para Series"
      ]
    },
    {
      "cell_type": "code",
      "metadata": {
        "colab": {
          "base_uri": "https://localhost:8080/"
        },
        "id": "O3uxjnABGG2D",
        "outputId": "2061b872-09da-4a39-cd82-2ef9991c5a86"
      },
      "source": [
        "titanic['Sex'].value_counts()"
      ],
      "execution_count": 46,
      "outputs": [
        {
          "output_type": "execute_result",
          "data": {
            "text/plain": [
              "male      573\n",
              "female    314\n",
              "Name: Sex, dtype: int64"
            ]
          },
          "metadata": {
            "tags": []
          },
          "execution_count": 46
        }
      ]
    },
    {
      "cell_type": "code",
      "metadata": {
        "colab": {
          "base_uri": "https://localhost:8080/"
        },
        "id": "zK6HxgRo7PYV",
        "outputId": "70a94618-4135-4a27-d7b2-cde67b270359"
      },
      "source": [
        "titanic.columns"
      ],
      "execution_count": 47,
      "outputs": [
        {
          "output_type": "execute_result",
          "data": {
            "text/plain": [
              "Index(['Survived', 'Pclass', 'Sex', 'Age', 'Siblings/Spouses Aboard',\n",
              "       'Parents/Children Aboard', 'Fare'],\n",
              "      dtype='object')"
            ]
          },
          "metadata": {
            "tags": []
          },
          "execution_count": 47
        }
      ]
    },
    {
      "cell_type": "markdown",
      "metadata": {
        "id": "Ko0ZhsHCGYKT"
      },
      "source": [
        "Para hacer lo anterior con cada columna del data frame podemos iterar por cada una de las columnas"
      ]
    },
    {
      "cell_type": "code",
      "metadata": {
        "colab": {
          "base_uri": "https://localhost:8080/"
        },
        "id": "MLp6rQjq7PYV",
        "outputId": "e98fd809-32ef-4d66-84ce-5d92cb9c3c3c"
      },
      "source": [
        "for column in titanic.columns:\n",
        "    print(titanic[column].value_counts(),'\\n')   \n",
        "    "
      ],
      "execution_count": 48,
      "outputs": [
        {
          "output_type": "stream",
          "text": [
            "0    545\n",
            "1    342\n",
            "Name: Survived, dtype: int64 \n",
            "\n",
            "3    487\n",
            "1    216\n",
            "2    184\n",
            "Name: Pclass, dtype: int64 \n",
            "\n",
            "male      573\n",
            "female    314\n",
            "Name: Sex, dtype: int64 \n",
            "\n",
            "22.00    39\n",
            "28.00    37\n",
            "18.00    36\n",
            "21.00    34\n",
            "24.00    34\n",
            "         ..\n",
            "70.50     1\n",
            "36.50     1\n",
            "23.50     1\n",
            "55.50     1\n",
            "0.42      1\n",
            "Name: Age, Length: 89, dtype: int64 \n",
            "\n",
            "0    604\n",
            "1    209\n",
            "2     28\n",
            "4     18\n",
            "3     16\n",
            "8      7\n",
            "5      5\n",
            "Name: Siblings/Spouses Aboard, dtype: int64 \n",
            "\n",
            "0    674\n",
            "1    118\n",
            "2     80\n",
            "5      5\n",
            "3      5\n",
            "4      4\n",
            "6      1\n",
            "Name: Parents/Children Aboard, dtype: int64 \n",
            "\n",
            "8.0500     43\n",
            "13.0000    42\n",
            "7.8958     36\n",
            "7.7500     33\n",
            "26.0000    31\n",
            "           ..\n",
            "8.4583      1\n",
            "9.8375      1\n",
            "8.3625      1\n",
            "14.1083     1\n",
            "17.4000     1\n",
            "Name: Fare, Length: 248, dtype: int64 \n",
            "\n"
          ],
          "name": "stdout"
        }
      ]
    },
    {
      "cell_type": "markdown",
      "metadata": {
        "id": "BXI8jjvw7PYV"
      },
      "source": [
        "### Métodos para resumir en un solo valor información\n",
        "\n",
        "Producen un único valor relacionado con los datos a los que se aplica. Si no se especifica otra cosa se Pandas lo aplica resumiendo los valores de cada columna de un dataframe, si se quiere resumir las variables de cada renglón, se deberá especificar axis=1 entre los paréntesis.\n",
        "\n",
        "Algunos de ellos son:\n",
        "![image.png](attachment:image.png)"
      ]
    },
    {
      "cell_type": "code",
      "metadata": {
        "id": "snxMjEre7PYW",
        "colab": {
          "base_uri": "https://localhost:8080/"
        },
        "outputId": "3797173a-4e04-47de-b6ea-8fc5c90235ce"
      },
      "source": [
        "titanic.mean()"
      ],
      "execution_count": 49,
      "outputs": [
        {
          "output_type": "execute_result",
          "data": {
            "text/plain": [
              "Survived                    0.385569\n",
              "Pclass                      2.305524\n",
              "Age                        29.471443\n",
              "Siblings/Spouses Aboard     0.525366\n",
              "Parents/Children Aboard     0.383315\n",
              "Fare                       32.305420\n",
              "dtype: float64"
            ]
          },
          "metadata": {
            "tags": []
          },
          "execution_count": 49
        }
      ]
    },
    {
      "cell_type": "code",
      "metadata": {
        "id": "-fLqZsPi7PYW",
        "colab": {
          "base_uri": "https://localhost:8080/"
        },
        "outputId": "8ac44a6a-ef14-4b62-be4c-10c97829e83b"
      },
      "source": [
        "titanic.count()"
      ],
      "execution_count": 50,
      "outputs": [
        {
          "output_type": "execute_result",
          "data": {
            "text/plain": [
              "Survived                   887\n",
              "Pclass                     887\n",
              "Sex                        887\n",
              "Age                        887\n",
              "Siblings/Spouses Aboard    887\n",
              "Parents/Children Aboard    887\n",
              "Fare                       887\n",
              "dtype: int64"
            ]
          },
          "metadata": {
            "tags": []
          },
          "execution_count": 50
        }
      ]
    },
    {
      "cell_type": "code",
      "metadata": {
        "colab": {
          "base_uri": "https://localhost:8080/",
          "height": 0
        },
        "id": "jz8q4Phq7PYW",
        "outputId": "50bd4e9c-98b1-47a0-fb28-f68d15d84b75"
      },
      "source": [
        "titanic.isnull()"
      ],
      "execution_count": 51,
      "outputs": [
        {
          "output_type": "execute_result",
          "data": {
            "text/html": [
              "<div>\n",
              "<style scoped>\n",
              "    .dataframe tbody tr th:only-of-type {\n",
              "        vertical-align: middle;\n",
              "    }\n",
              "\n",
              "    .dataframe tbody tr th {\n",
              "        vertical-align: top;\n",
              "    }\n",
              "\n",
              "    .dataframe thead th {\n",
              "        text-align: right;\n",
              "    }\n",
              "</style>\n",
              "<table border=\"1\" class=\"dataframe\">\n",
              "  <thead>\n",
              "    <tr style=\"text-align: right;\">\n",
              "      <th></th>\n",
              "      <th>Survived</th>\n",
              "      <th>Pclass</th>\n",
              "      <th>Sex</th>\n",
              "      <th>Age</th>\n",
              "      <th>Siblings/Spouses Aboard</th>\n",
              "      <th>Parents/Children Aboard</th>\n",
              "      <th>Fare</th>\n",
              "    </tr>\n",
              "    <tr>\n",
              "      <th>Name</th>\n",
              "      <th></th>\n",
              "      <th></th>\n",
              "      <th></th>\n",
              "      <th></th>\n",
              "      <th></th>\n",
              "      <th></th>\n",
              "      <th></th>\n",
              "    </tr>\n",
              "  </thead>\n",
              "  <tbody>\n",
              "    <tr>\n",
              "      <th>Mr. Owen Harris Braund</th>\n",
              "      <td>False</td>\n",
              "      <td>False</td>\n",
              "      <td>False</td>\n",
              "      <td>False</td>\n",
              "      <td>False</td>\n",
              "      <td>False</td>\n",
              "      <td>False</td>\n",
              "    </tr>\n",
              "    <tr>\n",
              "      <th>Mrs. John Bradley (Florence Briggs Thayer) Cumings</th>\n",
              "      <td>False</td>\n",
              "      <td>False</td>\n",
              "      <td>False</td>\n",
              "      <td>False</td>\n",
              "      <td>False</td>\n",
              "      <td>False</td>\n",
              "      <td>False</td>\n",
              "    </tr>\n",
              "    <tr>\n",
              "      <th>Miss. Laina Heikkinen</th>\n",
              "      <td>False</td>\n",
              "      <td>False</td>\n",
              "      <td>False</td>\n",
              "      <td>False</td>\n",
              "      <td>False</td>\n",
              "      <td>False</td>\n",
              "      <td>False</td>\n",
              "    </tr>\n",
              "    <tr>\n",
              "      <th>Mrs. Jacques Heath (Lily May Peel) Futrelle</th>\n",
              "      <td>False</td>\n",
              "      <td>False</td>\n",
              "      <td>False</td>\n",
              "      <td>False</td>\n",
              "      <td>False</td>\n",
              "      <td>False</td>\n",
              "      <td>False</td>\n",
              "    </tr>\n",
              "    <tr>\n",
              "      <th>Mr. William Henry Allen</th>\n",
              "      <td>False</td>\n",
              "      <td>False</td>\n",
              "      <td>False</td>\n",
              "      <td>False</td>\n",
              "      <td>False</td>\n",
              "      <td>False</td>\n",
              "      <td>False</td>\n",
              "    </tr>\n",
              "    <tr>\n",
              "      <th>...</th>\n",
              "      <td>...</td>\n",
              "      <td>...</td>\n",
              "      <td>...</td>\n",
              "      <td>...</td>\n",
              "      <td>...</td>\n",
              "      <td>...</td>\n",
              "      <td>...</td>\n",
              "    </tr>\n",
              "    <tr>\n",
              "      <th>Rev. Juozas Montvila</th>\n",
              "      <td>False</td>\n",
              "      <td>False</td>\n",
              "      <td>False</td>\n",
              "      <td>False</td>\n",
              "      <td>False</td>\n",
              "      <td>False</td>\n",
              "      <td>False</td>\n",
              "    </tr>\n",
              "    <tr>\n",
              "      <th>Miss. Margaret Edith Graham</th>\n",
              "      <td>False</td>\n",
              "      <td>False</td>\n",
              "      <td>False</td>\n",
              "      <td>False</td>\n",
              "      <td>False</td>\n",
              "      <td>False</td>\n",
              "      <td>False</td>\n",
              "    </tr>\n",
              "    <tr>\n",
              "      <th>Miss. Catherine Helen Johnston</th>\n",
              "      <td>False</td>\n",
              "      <td>False</td>\n",
              "      <td>False</td>\n",
              "      <td>False</td>\n",
              "      <td>False</td>\n",
              "      <td>False</td>\n",
              "      <td>False</td>\n",
              "    </tr>\n",
              "    <tr>\n",
              "      <th>Mr. Karl Howell Behr</th>\n",
              "      <td>False</td>\n",
              "      <td>False</td>\n",
              "      <td>False</td>\n",
              "      <td>False</td>\n",
              "      <td>False</td>\n",
              "      <td>False</td>\n",
              "      <td>False</td>\n",
              "    </tr>\n",
              "    <tr>\n",
              "      <th>Mr. Patrick Dooley</th>\n",
              "      <td>False</td>\n",
              "      <td>False</td>\n",
              "      <td>False</td>\n",
              "      <td>False</td>\n",
              "      <td>False</td>\n",
              "      <td>False</td>\n",
              "      <td>False</td>\n",
              "    </tr>\n",
              "  </tbody>\n",
              "</table>\n",
              "<p>887 rows × 7 columns</p>\n",
              "</div>"
            ],
            "text/plain": [
              "                                                    Survived  ...   Fare\n",
              "Name                                                          ...       \n",
              "Mr. Owen Harris Braund                                 False  ...  False\n",
              "Mrs. John Bradley (Florence Briggs Thayer) Cumings     False  ...  False\n",
              "Miss. Laina Heikkinen                                  False  ...  False\n",
              "Mrs. Jacques Heath (Lily May Peel) Futrelle            False  ...  False\n",
              "Mr. William Henry Allen                                False  ...  False\n",
              "...                                                      ...  ...    ...\n",
              "Rev. Juozas Montvila                                   False  ...  False\n",
              "Miss. Margaret Edith Graham                            False  ...  False\n",
              "Miss. Catherine Helen Johnston                         False  ...  False\n",
              "Mr. Karl Howell Behr                                   False  ...  False\n",
              "Mr. Patrick Dooley                                     False  ...  False\n",
              "\n",
              "[887 rows x 7 columns]"
            ]
          },
          "metadata": {
            "tags": []
          },
          "execution_count": 51
        }
      ]
    },
    {
      "cell_type": "code",
      "metadata": {
        "colab": {
          "base_uri": "https://localhost:8080/"
        },
        "id": "8sAAw0iA7PYW",
        "outputId": "151d1ccd-ca35-4038-987c-e65ecf838612"
      },
      "source": [
        "titanic.isnull().sum( )"
      ],
      "execution_count": 52,
      "outputs": [
        {
          "output_type": "execute_result",
          "data": {
            "text/plain": [
              "Survived                   0\n",
              "Pclass                     0\n",
              "Sex                        0\n",
              "Age                        0\n",
              "Siblings/Spouses Aboard    0\n",
              "Parents/Children Aboard    0\n",
              "Fare                       0\n",
              "dtype: int64"
            ]
          },
          "metadata": {
            "tags": []
          },
          "execution_count": 52
        }
      ]
    },
    {
      "cell_type": "code",
      "metadata": {
        "id": "LJ2C2_tRfkzl",
        "colab": {
          "base_uri": "https://localhost:8080/"
        },
        "outputId": "cfb93466-b059-4cf1-f87d-1c79b3c261a0"
      },
      "source": [
        "titanic.isnull().sum(axis=1)"
      ],
      "execution_count": 53,
      "outputs": [
        {
          "output_type": "execute_result",
          "data": {
            "text/plain": [
              "Name\n",
              "Mr. Owen Harris Braund                                0\n",
              "Mrs. John Bradley (Florence Briggs Thayer) Cumings    0\n",
              "Miss. Laina Heikkinen                                 0\n",
              "Mrs. Jacques Heath (Lily May Peel) Futrelle           0\n",
              "Mr. William Henry Allen                               0\n",
              "                                                     ..\n",
              "Rev. Juozas Montvila                                  0\n",
              "Miss. Margaret Edith Graham                           0\n",
              "Miss. Catherine Helen Johnston                        0\n",
              "Mr. Karl Howell Behr                                  0\n",
              "Mr. Patrick Dooley                                    0\n",
              "Length: 887, dtype: int64"
            ]
          },
          "metadata": {
            "tags": []
          },
          "execution_count": 53
        }
      ]
    },
    {
      "cell_type": "markdown",
      "metadata": {
        "id": "72gL6URq7PYX"
      },
      "source": [
        "## Acceso a los datos usando etiquetas o posiciones"
      ]
    },
    {
      "cell_type": "markdown",
      "metadata": {
        "id": "Lc34WYpd7PYX"
      },
      "source": [
        "Acceso a los datos utilizando etiquetas de las columnas\n",
        "\n",
        "Las siguientes expresiones son equivalentes:\n",
        "- titanic['Age'] \n",
        "- titanic.Age  \n",
        "\n",
        "En la segunda forma, se asume que cada columna es un atributo del DataFrame"
      ]
    },
    {
      "cell_type": "code",
      "metadata": {
        "id": "zZNEs6Dz7PYX",
        "colab": {
          "base_uri": "https://localhost:8080/"
        },
        "outputId": "f5bb47e2-4fbb-4c84-8f7c-8fa88b5194cf"
      },
      "source": [
        "print(type(titanic['Age']), '\\n')\n",
        "titanic['Age'] "
      ],
      "execution_count": 54,
      "outputs": [
        {
          "output_type": "stream",
          "text": [
            "<class 'pandas.core.series.Series'> \n",
            "\n"
          ],
          "name": "stdout"
        },
        {
          "output_type": "execute_result",
          "data": {
            "text/plain": [
              "Name\n",
              "Mr. Owen Harris Braund                                22.0\n",
              "Mrs. John Bradley (Florence Briggs Thayer) Cumings    38.0\n",
              "Miss. Laina Heikkinen                                 26.0\n",
              "Mrs. Jacques Heath (Lily May Peel) Futrelle           35.0\n",
              "Mr. William Henry Allen                               35.0\n",
              "                                                      ... \n",
              "Rev. Juozas Montvila                                  27.0\n",
              "Miss. Margaret Edith Graham                           19.0\n",
              "Miss. Catherine Helen Johnston                         7.0\n",
              "Mr. Karl Howell Behr                                  26.0\n",
              "Mr. Patrick Dooley                                    32.0\n",
              "Name: Age, Length: 887, dtype: float64"
            ]
          },
          "metadata": {
            "tags": []
          },
          "execution_count": 54
        }
      ]
    },
    {
      "cell_type": "markdown",
      "metadata": {
        "id": "WlH5Gcp8NPpa"
      },
      "source": [
        "podemos llamar a dos o más columnas juntas, agrupandolas en una lista"
      ]
    },
    {
      "cell_type": "code",
      "metadata": {
        "colab": {
          "base_uri": "https://localhost:8080/",
          "height": 450
        },
        "id": "OGZb8jP-NOeK",
        "outputId": "d4b616ee-f84b-43b6-ca44-855261ed2683"
      },
      "source": [
        "titanic[['Survived','Sex']]"
      ],
      "execution_count": 55,
      "outputs": [
        {
          "output_type": "execute_result",
          "data": {
            "text/html": [
              "<div>\n",
              "<style scoped>\n",
              "    .dataframe tbody tr th:only-of-type {\n",
              "        vertical-align: middle;\n",
              "    }\n",
              "\n",
              "    .dataframe tbody tr th {\n",
              "        vertical-align: top;\n",
              "    }\n",
              "\n",
              "    .dataframe thead th {\n",
              "        text-align: right;\n",
              "    }\n",
              "</style>\n",
              "<table border=\"1\" class=\"dataframe\">\n",
              "  <thead>\n",
              "    <tr style=\"text-align: right;\">\n",
              "      <th></th>\n",
              "      <th>Survived</th>\n",
              "      <th>Sex</th>\n",
              "    </tr>\n",
              "    <tr>\n",
              "      <th>Name</th>\n",
              "      <th></th>\n",
              "      <th></th>\n",
              "    </tr>\n",
              "  </thead>\n",
              "  <tbody>\n",
              "    <tr>\n",
              "      <th>Mr. Owen Harris Braund</th>\n",
              "      <td>0</td>\n",
              "      <td>male</td>\n",
              "    </tr>\n",
              "    <tr>\n",
              "      <th>Mrs. John Bradley (Florence Briggs Thayer) Cumings</th>\n",
              "      <td>1</td>\n",
              "      <td>female</td>\n",
              "    </tr>\n",
              "    <tr>\n",
              "      <th>Miss. Laina Heikkinen</th>\n",
              "      <td>1</td>\n",
              "      <td>female</td>\n",
              "    </tr>\n",
              "    <tr>\n",
              "      <th>Mrs. Jacques Heath (Lily May Peel) Futrelle</th>\n",
              "      <td>1</td>\n",
              "      <td>female</td>\n",
              "    </tr>\n",
              "    <tr>\n",
              "      <th>Mr. William Henry Allen</th>\n",
              "      <td>0</td>\n",
              "      <td>male</td>\n",
              "    </tr>\n",
              "    <tr>\n",
              "      <th>...</th>\n",
              "      <td>...</td>\n",
              "      <td>...</td>\n",
              "    </tr>\n",
              "    <tr>\n",
              "      <th>Rev. Juozas Montvila</th>\n",
              "      <td>0</td>\n",
              "      <td>male</td>\n",
              "    </tr>\n",
              "    <tr>\n",
              "      <th>Miss. Margaret Edith Graham</th>\n",
              "      <td>1</td>\n",
              "      <td>female</td>\n",
              "    </tr>\n",
              "    <tr>\n",
              "      <th>Miss. Catherine Helen Johnston</th>\n",
              "      <td>0</td>\n",
              "      <td>female</td>\n",
              "    </tr>\n",
              "    <tr>\n",
              "      <th>Mr. Karl Howell Behr</th>\n",
              "      <td>1</td>\n",
              "      <td>male</td>\n",
              "    </tr>\n",
              "    <tr>\n",
              "      <th>Mr. Patrick Dooley</th>\n",
              "      <td>0</td>\n",
              "      <td>male</td>\n",
              "    </tr>\n",
              "  </tbody>\n",
              "</table>\n",
              "<p>887 rows × 2 columns</p>\n",
              "</div>"
            ],
            "text/plain": [
              "                                                    Survived     Sex\n",
              "Name                                                                \n",
              "Mr. Owen Harris Braund                                     0    male\n",
              "Mrs. John Bradley (Florence Briggs Thayer) Cumings         1  female\n",
              "Miss. Laina Heikkinen                                      1  female\n",
              "Mrs. Jacques Heath (Lily May Peel) Futrelle                1  female\n",
              "Mr. William Henry Allen                                    0    male\n",
              "...                                                      ...     ...\n",
              "Rev. Juozas Montvila                                       0    male\n",
              "Miss. Margaret Edith Graham                                1  female\n",
              "Miss. Catherine Helen Johnston                             0  female\n",
              "Mr. Karl Howell Behr                                       1    male\n",
              "Mr. Patrick Dooley                                         0    male\n",
              "\n",
              "[887 rows x 2 columns]"
            ]
          },
          "metadata": {
            "tags": []
          },
          "execution_count": 55
        }
      ]
    },
    {
      "cell_type": "markdown",
      "metadata": {
        "id": "iO7nK54cJoCq"
      },
      "source": [
        "Para los renglones, hemos dicho que no se puede usar el índice como si fuera la clave de un diccionario"
      ]
    },
    {
      "cell_type": "code",
      "metadata": {
        "colab": {
          "base_uri": "https://localhost:8080/",
          "height": 561
        },
        "id": "Q5EbZvEEJzLa",
        "outputId": "61e888e9-758f-44c1-b3a9-9c74b6e56861"
      },
      "source": [
        "titanic['Miss. Laina Heikkinen']"
      ],
      "execution_count": 56,
      "outputs": [
        {
          "output_type": "error",
          "ename": "KeyError",
          "evalue": "ignored",
          "traceback": [
            "\u001b[0;31m---------------------------------------------------------------------------\u001b[0m",
            "\u001b[0;31mKeyError\u001b[0m                                  Traceback (most recent call last)",
            "\u001b[0;32m/usr/local/lib/python3.7/dist-packages/pandas/core/indexes/base.py\u001b[0m in \u001b[0;36mget_loc\u001b[0;34m(self, key, method, tolerance)\u001b[0m\n\u001b[1;32m   2897\u001b[0m             \u001b[0;32mtry\u001b[0m\u001b[0;34m:\u001b[0m\u001b[0;34m\u001b[0m\u001b[0;34m\u001b[0m\u001b[0m\n\u001b[0;32m-> 2898\u001b[0;31m                 \u001b[0;32mreturn\u001b[0m \u001b[0mself\u001b[0m\u001b[0;34m.\u001b[0m\u001b[0m_engine\u001b[0m\u001b[0;34m.\u001b[0m\u001b[0mget_loc\u001b[0m\u001b[0;34m(\u001b[0m\u001b[0mcasted_key\u001b[0m\u001b[0;34m)\u001b[0m\u001b[0;34m\u001b[0m\u001b[0;34m\u001b[0m\u001b[0m\n\u001b[0m\u001b[1;32m   2899\u001b[0m             \u001b[0;32mexcept\u001b[0m \u001b[0mKeyError\u001b[0m \u001b[0;32mas\u001b[0m \u001b[0merr\u001b[0m\u001b[0;34m:\u001b[0m\u001b[0;34m\u001b[0m\u001b[0;34m\u001b[0m\u001b[0m\n",
            "\u001b[0;32mpandas/_libs/index.pyx\u001b[0m in \u001b[0;36mpandas._libs.index.IndexEngine.get_loc\u001b[0;34m()\u001b[0m\n",
            "\u001b[0;32mpandas/_libs/index.pyx\u001b[0m in \u001b[0;36mpandas._libs.index.IndexEngine.get_loc\u001b[0;34m()\u001b[0m\n",
            "\u001b[0;32mpandas/_libs/hashtable_class_helper.pxi\u001b[0m in \u001b[0;36mpandas._libs.hashtable.PyObjectHashTable.get_item\u001b[0;34m()\u001b[0m\n",
            "\u001b[0;32mpandas/_libs/hashtable_class_helper.pxi\u001b[0m in \u001b[0;36mpandas._libs.hashtable.PyObjectHashTable.get_item\u001b[0;34m()\u001b[0m\n",
            "\u001b[0;31mKeyError\u001b[0m: 'Miss. Laina Heikkinen'",
            "\nThe above exception was the direct cause of the following exception:\n",
            "\u001b[0;31mKeyError\u001b[0m                                  Traceback (most recent call last)",
            "\u001b[0;32m<ipython-input-56-2aa66d15d9a6>\u001b[0m in \u001b[0;36m<module>\u001b[0;34m()\u001b[0m\n\u001b[0;32m----> 1\u001b[0;31m \u001b[0mtitanic\u001b[0m\u001b[0;34m[\u001b[0m\u001b[0;34m'Miss. Laina Heikkinen'\u001b[0m\u001b[0;34m]\u001b[0m\u001b[0;34m\u001b[0m\u001b[0;34m\u001b[0m\u001b[0m\n\u001b[0m",
            "\u001b[0;32m/usr/local/lib/python3.7/dist-packages/pandas/core/frame.py\u001b[0m in \u001b[0;36m__getitem__\u001b[0;34m(self, key)\u001b[0m\n\u001b[1;32m   2904\u001b[0m             \u001b[0;32mif\u001b[0m \u001b[0mself\u001b[0m\u001b[0;34m.\u001b[0m\u001b[0mcolumns\u001b[0m\u001b[0;34m.\u001b[0m\u001b[0mnlevels\u001b[0m \u001b[0;34m>\u001b[0m \u001b[0;36m1\u001b[0m\u001b[0;34m:\u001b[0m\u001b[0;34m\u001b[0m\u001b[0;34m\u001b[0m\u001b[0m\n\u001b[1;32m   2905\u001b[0m                 \u001b[0;32mreturn\u001b[0m \u001b[0mself\u001b[0m\u001b[0;34m.\u001b[0m\u001b[0m_getitem_multilevel\u001b[0m\u001b[0;34m(\u001b[0m\u001b[0mkey\u001b[0m\u001b[0;34m)\u001b[0m\u001b[0;34m\u001b[0m\u001b[0;34m\u001b[0m\u001b[0m\n\u001b[0;32m-> 2906\u001b[0;31m             \u001b[0mindexer\u001b[0m \u001b[0;34m=\u001b[0m \u001b[0mself\u001b[0m\u001b[0;34m.\u001b[0m\u001b[0mcolumns\u001b[0m\u001b[0;34m.\u001b[0m\u001b[0mget_loc\u001b[0m\u001b[0;34m(\u001b[0m\u001b[0mkey\u001b[0m\u001b[0;34m)\u001b[0m\u001b[0;34m\u001b[0m\u001b[0;34m\u001b[0m\u001b[0m\n\u001b[0m\u001b[1;32m   2907\u001b[0m             \u001b[0;32mif\u001b[0m \u001b[0mis_integer\u001b[0m\u001b[0;34m(\u001b[0m\u001b[0mindexer\u001b[0m\u001b[0;34m)\u001b[0m\u001b[0;34m:\u001b[0m\u001b[0;34m\u001b[0m\u001b[0;34m\u001b[0m\u001b[0m\n\u001b[1;32m   2908\u001b[0m                 \u001b[0mindexer\u001b[0m \u001b[0;34m=\u001b[0m \u001b[0;34m[\u001b[0m\u001b[0mindexer\u001b[0m\u001b[0;34m]\u001b[0m\u001b[0;34m\u001b[0m\u001b[0;34m\u001b[0m\u001b[0m\n",
            "\u001b[0;32m/usr/local/lib/python3.7/dist-packages/pandas/core/indexes/base.py\u001b[0m in \u001b[0;36mget_loc\u001b[0;34m(self, key, method, tolerance)\u001b[0m\n\u001b[1;32m   2898\u001b[0m                 \u001b[0;32mreturn\u001b[0m \u001b[0mself\u001b[0m\u001b[0;34m.\u001b[0m\u001b[0m_engine\u001b[0m\u001b[0;34m.\u001b[0m\u001b[0mget_loc\u001b[0m\u001b[0;34m(\u001b[0m\u001b[0mcasted_key\u001b[0m\u001b[0;34m)\u001b[0m\u001b[0;34m\u001b[0m\u001b[0;34m\u001b[0m\u001b[0m\n\u001b[1;32m   2899\u001b[0m             \u001b[0;32mexcept\u001b[0m \u001b[0mKeyError\u001b[0m \u001b[0;32mas\u001b[0m \u001b[0merr\u001b[0m\u001b[0;34m:\u001b[0m\u001b[0;34m\u001b[0m\u001b[0;34m\u001b[0m\u001b[0m\n\u001b[0;32m-> 2900\u001b[0;31m                 \u001b[0;32mraise\u001b[0m \u001b[0mKeyError\u001b[0m\u001b[0;34m(\u001b[0m\u001b[0mkey\u001b[0m\u001b[0;34m)\u001b[0m \u001b[0;32mfrom\u001b[0m \u001b[0merr\u001b[0m\u001b[0;34m\u001b[0m\u001b[0;34m\u001b[0m\u001b[0m\n\u001b[0m\u001b[1;32m   2901\u001b[0m \u001b[0;34m\u001b[0m\u001b[0m\n\u001b[1;32m   2902\u001b[0m         \u001b[0;32mif\u001b[0m \u001b[0mtolerance\u001b[0m \u001b[0;32mis\u001b[0m \u001b[0;32mnot\u001b[0m \u001b[0;32mNone\u001b[0m\u001b[0;34m:\u001b[0m\u001b[0;34m\u001b[0m\u001b[0;34m\u001b[0m\u001b[0m\n",
            "\u001b[0;31mKeyError\u001b[0m: 'Miss. Laina Heikkinen'"
          ]
        }
      ]
    },
    {
      "cell_type": "markdown",
      "metadata": {
        "id": "Lkequ5-zMCrg"
      },
      "source": [
        "### Propiedad **`loc[]`** \n",
        "\n",
        "Se utiliza **`df.loc[renglones, columnas]`**  para tener acceso a los datos usando etiquetas"
      ]
    },
    {
      "cell_type": "markdown",
      "metadata": {
        "id": "txjm85kcLW27"
      },
      "source": [
        "Podemos utilizar esta propiedad de los DataFrames para llamar a un solo renglón"
      ]
    },
    {
      "cell_type": "code",
      "metadata": {
        "id": "-hXj9n6i7PYY",
        "colab": {
          "base_uri": "https://localhost:8080/"
        },
        "outputId": "f19148b5-7a1c-4d6d-e600-87c7d3118346"
      },
      "source": [
        "titanic.loc['Miss. Laina Heikkinen']  "
      ],
      "execution_count": 57,
      "outputs": [
        {
          "output_type": "execute_result",
          "data": {
            "text/plain": [
              "Survived                        1\n",
              "Pclass                          3\n",
              "Sex                        female\n",
              "Age                            26\n",
              "Siblings/Spouses Aboard         0\n",
              "Parents/Children Aboard         0\n",
              "Fare                        7.925\n",
              "Name: Miss. Laina Heikkinen, dtype: object"
            ]
          },
          "metadata": {
            "tags": []
          },
          "execution_count": 57
        }
      ]
    },
    {
      "cell_type": "markdown",
      "metadata": {
        "id": "x9UBROtxM0cl"
      },
      "source": [
        "O varios renglones, agrupandolos en una lista"
      ]
    },
    {
      "cell_type": "code",
      "metadata": {
        "colab": {
          "base_uri": "https://localhost:8080/",
          "height": 0
        },
        "id": "annalItzM686",
        "outputId": "331eb54e-9fe7-41b4-bac1-16645c938781"
      },
      "source": [
        "titanic.loc[['Miss. Laina Heikkinen','Mr. Timothy J McCarthy']]  "
      ],
      "execution_count": 58,
      "outputs": [
        {
          "output_type": "execute_result",
          "data": {
            "text/html": [
              "<div>\n",
              "<style scoped>\n",
              "    .dataframe tbody tr th:only-of-type {\n",
              "        vertical-align: middle;\n",
              "    }\n",
              "\n",
              "    .dataframe tbody tr th {\n",
              "        vertical-align: top;\n",
              "    }\n",
              "\n",
              "    .dataframe thead th {\n",
              "        text-align: right;\n",
              "    }\n",
              "</style>\n",
              "<table border=\"1\" class=\"dataframe\">\n",
              "  <thead>\n",
              "    <tr style=\"text-align: right;\">\n",
              "      <th></th>\n",
              "      <th>Survived</th>\n",
              "      <th>Pclass</th>\n",
              "      <th>Sex</th>\n",
              "      <th>Age</th>\n",
              "      <th>Siblings/Spouses Aboard</th>\n",
              "      <th>Parents/Children Aboard</th>\n",
              "      <th>Fare</th>\n",
              "    </tr>\n",
              "    <tr>\n",
              "      <th>Name</th>\n",
              "      <th></th>\n",
              "      <th></th>\n",
              "      <th></th>\n",
              "      <th></th>\n",
              "      <th></th>\n",
              "      <th></th>\n",
              "      <th></th>\n",
              "    </tr>\n",
              "  </thead>\n",
              "  <tbody>\n",
              "    <tr>\n",
              "      <th>Miss. Laina Heikkinen</th>\n",
              "      <td>1</td>\n",
              "      <td>3</td>\n",
              "      <td>female</td>\n",
              "      <td>26.0</td>\n",
              "      <td>0</td>\n",
              "      <td>0</td>\n",
              "      <td>7.9250</td>\n",
              "    </tr>\n",
              "    <tr>\n",
              "      <th>Mr. Timothy J McCarthy</th>\n",
              "      <td>0</td>\n",
              "      <td>1</td>\n",
              "      <td>male</td>\n",
              "      <td>54.0</td>\n",
              "      <td>0</td>\n",
              "      <td>0</td>\n",
              "      <td>51.8625</td>\n",
              "    </tr>\n",
              "  </tbody>\n",
              "</table>\n",
              "</div>"
            ],
            "text/plain": [
              "                        Survived  Pclass  ... Parents/Children Aboard     Fare\n",
              "Name                                      ...                                 \n",
              "Miss. Laina Heikkinen          1       3  ...                       0   7.9250\n",
              "Mr. Timothy J McCarthy         0       1  ...                       0  51.8625\n",
              "\n",
              "[2 rows x 7 columns]"
            ]
          },
          "metadata": {
            "tags": []
          },
          "execution_count": 58
        }
      ]
    },
    {
      "cell_type": "markdown",
      "metadata": {
        "id": "PTBfkMOFN6sT"
      },
      "source": [
        "o un grupo de renglones y columnas"
      ]
    },
    {
      "cell_type": "code",
      "metadata": {
        "colab": {
          "base_uri": "https://localhost:8080/",
          "height": 0
        },
        "id": "cVu3NDtWNkhr",
        "outputId": "c179f712-cd95-4931-8e85-6bd210301683"
      },
      "source": [
        "titanic.loc[['Miss. Laina Heikkinen','Mr. Timothy J McCarthy'], ['Survived','Age']]"
      ],
      "execution_count": 59,
      "outputs": [
        {
          "output_type": "execute_result",
          "data": {
            "text/html": [
              "<div>\n",
              "<style scoped>\n",
              "    .dataframe tbody tr th:only-of-type {\n",
              "        vertical-align: middle;\n",
              "    }\n",
              "\n",
              "    .dataframe tbody tr th {\n",
              "        vertical-align: top;\n",
              "    }\n",
              "\n",
              "    .dataframe thead th {\n",
              "        text-align: right;\n",
              "    }\n",
              "</style>\n",
              "<table border=\"1\" class=\"dataframe\">\n",
              "  <thead>\n",
              "    <tr style=\"text-align: right;\">\n",
              "      <th></th>\n",
              "      <th>Survived</th>\n",
              "      <th>Age</th>\n",
              "    </tr>\n",
              "    <tr>\n",
              "      <th>Name</th>\n",
              "      <th></th>\n",
              "      <th></th>\n",
              "    </tr>\n",
              "  </thead>\n",
              "  <tbody>\n",
              "    <tr>\n",
              "      <th>Miss. Laina Heikkinen</th>\n",
              "      <td>1</td>\n",
              "      <td>26.0</td>\n",
              "    </tr>\n",
              "    <tr>\n",
              "      <th>Mr. Timothy J McCarthy</th>\n",
              "      <td>0</td>\n",
              "      <td>54.0</td>\n",
              "    </tr>\n",
              "  </tbody>\n",
              "</table>\n",
              "</div>"
            ],
            "text/plain": [
              "                        Survived   Age\n",
              "Name                                  \n",
              "Miss. Laina Heikkinen          1  26.0\n",
              "Mr. Timothy J McCarthy         0  54.0"
            ]
          },
          "metadata": {
            "tags": []
          },
          "execution_count": 59
        }
      ]
    },
    {
      "cell_type": "markdown",
      "metadata": {
        "id": "KUNE35WxOHMh"
      },
      "source": [
        "o utilizar '*slicing*'"
      ]
    },
    {
      "cell_type": "code",
      "metadata": {
        "id": "irbs-FKB7PYZ",
        "colab": {
          "base_uri": "https://localhost:8080/",
          "height": 0
        },
        "outputId": "76693b4e-5ba0-4d26-f99c-ccf6d0795e12"
      },
      "source": [
        "titanic.loc['Miss. Laina Heikkinen':'Mr. Timothy J McCarthy', 'Survived':'Age']  "
      ],
      "execution_count": 60,
      "outputs": [
        {
          "output_type": "execute_result",
          "data": {
            "text/html": [
              "<div>\n",
              "<style scoped>\n",
              "    .dataframe tbody tr th:only-of-type {\n",
              "        vertical-align: middle;\n",
              "    }\n",
              "\n",
              "    .dataframe tbody tr th {\n",
              "        vertical-align: top;\n",
              "    }\n",
              "\n",
              "    .dataframe thead th {\n",
              "        text-align: right;\n",
              "    }\n",
              "</style>\n",
              "<table border=\"1\" class=\"dataframe\">\n",
              "  <thead>\n",
              "    <tr style=\"text-align: right;\">\n",
              "      <th></th>\n",
              "      <th>Survived</th>\n",
              "      <th>Pclass</th>\n",
              "      <th>Sex</th>\n",
              "      <th>Age</th>\n",
              "    </tr>\n",
              "    <tr>\n",
              "      <th>Name</th>\n",
              "      <th></th>\n",
              "      <th></th>\n",
              "      <th></th>\n",
              "      <th></th>\n",
              "    </tr>\n",
              "  </thead>\n",
              "  <tbody>\n",
              "    <tr>\n",
              "      <th>Miss. Laina Heikkinen</th>\n",
              "      <td>1</td>\n",
              "      <td>3</td>\n",
              "      <td>female</td>\n",
              "      <td>26.0</td>\n",
              "    </tr>\n",
              "    <tr>\n",
              "      <th>Mrs. Jacques Heath (Lily May Peel) Futrelle</th>\n",
              "      <td>1</td>\n",
              "      <td>1</td>\n",
              "      <td>female</td>\n",
              "      <td>35.0</td>\n",
              "    </tr>\n",
              "    <tr>\n",
              "      <th>Mr. William Henry Allen</th>\n",
              "      <td>0</td>\n",
              "      <td>3</td>\n",
              "      <td>male</td>\n",
              "      <td>35.0</td>\n",
              "    </tr>\n",
              "    <tr>\n",
              "      <th>Mr. James Moran</th>\n",
              "      <td>0</td>\n",
              "      <td>3</td>\n",
              "      <td>male</td>\n",
              "      <td>27.0</td>\n",
              "    </tr>\n",
              "    <tr>\n",
              "      <th>Mr. Timothy J McCarthy</th>\n",
              "      <td>0</td>\n",
              "      <td>1</td>\n",
              "      <td>male</td>\n",
              "      <td>54.0</td>\n",
              "    </tr>\n",
              "  </tbody>\n",
              "</table>\n",
              "</div>"
            ],
            "text/plain": [
              "                                             Survived  Pclass     Sex   Age\n",
              "Name                                                                       \n",
              "Miss. Laina Heikkinen                               1       3  female  26.0\n",
              "Mrs. Jacques Heath (Lily May Peel) Futrelle         1       1  female  35.0\n",
              "Mr. William Henry Allen                             0       3    male  35.0\n",
              "Mr. James Moran                                     0       3    male  27.0\n",
              "Mr. Timothy J McCarthy                              0       1    male  54.0"
            ]
          },
          "metadata": {
            "tags": []
          },
          "execution_count": 60
        }
      ]
    },
    {
      "cell_type": "code",
      "metadata": {
        "id": "oBfGpZFr7PYZ",
        "colab": {
          "base_uri": "https://localhost:8080/"
        },
        "outputId": "ea0d75c3-a01c-4c57-a0c9-124d664a9799"
      },
      "source": [
        "titanic.loc[:,'Age']"
      ],
      "execution_count": 61,
      "outputs": [
        {
          "output_type": "execute_result",
          "data": {
            "text/plain": [
              "Name\n",
              "Mr. Owen Harris Braund                                22.0\n",
              "Mrs. John Bradley (Florence Briggs Thayer) Cumings    38.0\n",
              "Miss. Laina Heikkinen                                 26.0\n",
              "Mrs. Jacques Heath (Lily May Peel) Futrelle           35.0\n",
              "Mr. William Henry Allen                               35.0\n",
              "                                                      ... \n",
              "Rev. Juozas Montvila                                  27.0\n",
              "Miss. Margaret Edith Graham                           19.0\n",
              "Miss. Catherine Helen Johnston                         7.0\n",
              "Mr. Karl Howell Behr                                  26.0\n",
              "Mr. Patrick Dooley                                    32.0\n",
              "Name: Age, Length: 887, dtype: float64"
            ]
          },
          "metadata": {
            "tags": []
          },
          "execution_count": 61
        }
      ]
    },
    {
      "cell_type": "markdown",
      "metadata": {
        "id": "q_IAXNwR7PYZ"
      },
      "source": [
        "### Propiedad **`iloc[]`** para acceder mediante posiciones\n",
        "\n",
        "\n",
        "Se utiliza **`df.iloc[row, column]`**, para  usar las posiciones de un valor"
      ]
    },
    {
      "cell_type": "code",
      "metadata": {
        "id": "A3zohS5w7PYZ",
        "colab": {
          "base_uri": "https://localhost:8080/",
          "height": 0
        },
        "outputId": "fec2b4c6-ecc6-43f3-8650-d78b0b5b362b"
      },
      "source": [
        "titanic.iloc[15:22,3:5]  "
      ],
      "execution_count": 62,
      "outputs": [
        {
          "output_type": "execute_result",
          "data": {
            "text/html": [
              "<div>\n",
              "<style scoped>\n",
              "    .dataframe tbody tr th:only-of-type {\n",
              "        vertical-align: middle;\n",
              "    }\n",
              "\n",
              "    .dataframe tbody tr th {\n",
              "        vertical-align: top;\n",
              "    }\n",
              "\n",
              "    .dataframe thead th {\n",
              "        text-align: right;\n",
              "    }\n",
              "</style>\n",
              "<table border=\"1\" class=\"dataframe\">\n",
              "  <thead>\n",
              "    <tr style=\"text-align: right;\">\n",
              "      <th></th>\n",
              "      <th>Age</th>\n",
              "      <th>Siblings/Spouses Aboard</th>\n",
              "    </tr>\n",
              "    <tr>\n",
              "      <th>Name</th>\n",
              "      <th></th>\n",
              "      <th></th>\n",
              "    </tr>\n",
              "  </thead>\n",
              "  <tbody>\n",
              "    <tr>\n",
              "      <th>Mrs. (Mary D Kingcome) Hewlett</th>\n",
              "      <td>55.0</td>\n",
              "      <td>0</td>\n",
              "    </tr>\n",
              "    <tr>\n",
              "      <th>Master. Eugene Rice</th>\n",
              "      <td>2.0</td>\n",
              "      <td>4</td>\n",
              "    </tr>\n",
              "    <tr>\n",
              "      <th>Mr. Charles Eugene Williams</th>\n",
              "      <td>23.0</td>\n",
              "      <td>0</td>\n",
              "    </tr>\n",
              "    <tr>\n",
              "      <th>Mrs. Julius (Emelia Maria Vandemoortele) Vander Planke</th>\n",
              "      <td>31.0</td>\n",
              "      <td>1</td>\n",
              "    </tr>\n",
              "    <tr>\n",
              "      <th>Mrs. Fatima Masselmani</th>\n",
              "      <td>22.0</td>\n",
              "      <td>0</td>\n",
              "    </tr>\n",
              "    <tr>\n",
              "      <th>Mr. Joseph J Fynney</th>\n",
              "      <td>35.0</td>\n",
              "      <td>0</td>\n",
              "    </tr>\n",
              "    <tr>\n",
              "      <th>Mr. Lawrence Beesley</th>\n",
              "      <td>34.0</td>\n",
              "      <td>0</td>\n",
              "    </tr>\n",
              "  </tbody>\n",
              "</table>\n",
              "</div>"
            ],
            "text/plain": [
              "                                                     Age  Siblings/Spouses Aboard\n",
              "Name                                                                             \n",
              "Mrs. (Mary D Kingcome) Hewlett                      55.0                        0\n",
              "Master. Eugene Rice                                  2.0                        4\n",
              "Mr. Charles Eugene Williams                         23.0                        0\n",
              "Mrs. Julius (Emelia Maria Vandemoortele) Vander...  31.0                        1\n",
              "Mrs. Fatima Masselmani                              22.0                        0\n",
              "Mr. Joseph J Fynney                                 35.0                        0\n",
              "Mr. Lawrence Beesley                                34.0                        0"
            ]
          },
          "metadata": {
            "tags": []
          },
          "execution_count": 62
        }
      ]
    },
    {
      "cell_type": "code",
      "metadata": {
        "colab": {
          "base_uri": "https://localhost:8080/",
          "height": 0
        },
        "id": "8ox3kVZQP8AD",
        "outputId": "7dd1fe8a-09f6-4d74-86c2-2735db409fff"
      },
      "source": [
        "titanic.iloc[[15,22],[3,5]]  "
      ],
      "execution_count": 63,
      "outputs": [
        {
          "output_type": "execute_result",
          "data": {
            "text/html": [
              "<div>\n",
              "<style scoped>\n",
              "    .dataframe tbody tr th:only-of-type {\n",
              "        vertical-align: middle;\n",
              "    }\n",
              "\n",
              "    .dataframe tbody tr th {\n",
              "        vertical-align: top;\n",
              "    }\n",
              "\n",
              "    .dataframe thead th {\n",
              "        text-align: right;\n",
              "    }\n",
              "</style>\n",
              "<table border=\"1\" class=\"dataframe\">\n",
              "  <thead>\n",
              "    <tr style=\"text-align: right;\">\n",
              "      <th></th>\n",
              "      <th>Age</th>\n",
              "      <th>Parents/Children Aboard</th>\n",
              "    </tr>\n",
              "    <tr>\n",
              "      <th>Name</th>\n",
              "      <th></th>\n",
              "      <th></th>\n",
              "    </tr>\n",
              "  </thead>\n",
              "  <tbody>\n",
              "    <tr>\n",
              "      <th>Mrs. (Mary D Kingcome) Hewlett</th>\n",
              "      <td>55.0</td>\n",
              "      <td>0</td>\n",
              "    </tr>\n",
              "    <tr>\n",
              "      <th>Miss. Anna McGowan</th>\n",
              "      <td>15.0</td>\n",
              "      <td>0</td>\n",
              "    </tr>\n",
              "  </tbody>\n",
              "</table>\n",
              "</div>"
            ],
            "text/plain": [
              "                                 Age  Parents/Children Aboard\n",
              "Name                                                         \n",
              "Mrs. (Mary D Kingcome) Hewlett  55.0                        0\n",
              "Miss. Anna McGowan              15.0                        0"
            ]
          },
          "metadata": {
            "tags": []
          },
          "execution_count": 63
        }
      ]
    },
    {
      "cell_type": "markdown",
      "metadata": {
        "id": "xc02IHfH7PYa"
      },
      "source": [
        "## Filtrado de datos"
      ]
    },
    {
      "cell_type": "code",
      "metadata": {
        "id": "6gI3itvP7PYa",
        "colab": {
          "base_uri": "https://localhost:8080/",
          "height": 450
        },
        "outputId": "99ed635b-a826-4d79-80b9-bedb0850ee7b"
      },
      "source": [
        "filtro = titanic['Pclass']==3\n",
        "\n",
        "tercera = titanic[filtro]\n",
        "tercera"
      ],
      "execution_count": 64,
      "outputs": [
        {
          "output_type": "execute_result",
          "data": {
            "text/html": [
              "<div>\n",
              "<style scoped>\n",
              "    .dataframe tbody tr th:only-of-type {\n",
              "        vertical-align: middle;\n",
              "    }\n",
              "\n",
              "    .dataframe tbody tr th {\n",
              "        vertical-align: top;\n",
              "    }\n",
              "\n",
              "    .dataframe thead th {\n",
              "        text-align: right;\n",
              "    }\n",
              "</style>\n",
              "<table border=\"1\" class=\"dataframe\">\n",
              "  <thead>\n",
              "    <tr style=\"text-align: right;\">\n",
              "      <th></th>\n",
              "      <th>Survived</th>\n",
              "      <th>Pclass</th>\n",
              "      <th>Sex</th>\n",
              "      <th>Age</th>\n",
              "      <th>Siblings/Spouses Aboard</th>\n",
              "      <th>Parents/Children Aboard</th>\n",
              "      <th>Fare</th>\n",
              "    </tr>\n",
              "    <tr>\n",
              "      <th>Name</th>\n",
              "      <th></th>\n",
              "      <th></th>\n",
              "      <th></th>\n",
              "      <th></th>\n",
              "      <th></th>\n",
              "      <th></th>\n",
              "      <th></th>\n",
              "    </tr>\n",
              "  </thead>\n",
              "  <tbody>\n",
              "    <tr>\n",
              "      <th>Mr. Owen Harris Braund</th>\n",
              "      <td>0</td>\n",
              "      <td>3</td>\n",
              "      <td>male</td>\n",
              "      <td>22.0</td>\n",
              "      <td>1</td>\n",
              "      <td>0</td>\n",
              "      <td>7.2500</td>\n",
              "    </tr>\n",
              "    <tr>\n",
              "      <th>Miss. Laina Heikkinen</th>\n",
              "      <td>1</td>\n",
              "      <td>3</td>\n",
              "      <td>female</td>\n",
              "      <td>26.0</td>\n",
              "      <td>0</td>\n",
              "      <td>0</td>\n",
              "      <td>7.9250</td>\n",
              "    </tr>\n",
              "    <tr>\n",
              "      <th>Mr. William Henry Allen</th>\n",
              "      <td>0</td>\n",
              "      <td>3</td>\n",
              "      <td>male</td>\n",
              "      <td>35.0</td>\n",
              "      <td>0</td>\n",
              "      <td>0</td>\n",
              "      <td>8.0500</td>\n",
              "    </tr>\n",
              "    <tr>\n",
              "      <th>Mr. James Moran</th>\n",
              "      <td>0</td>\n",
              "      <td>3</td>\n",
              "      <td>male</td>\n",
              "      <td>27.0</td>\n",
              "      <td>0</td>\n",
              "      <td>0</td>\n",
              "      <td>8.4583</td>\n",
              "    </tr>\n",
              "    <tr>\n",
              "      <th>Master. Gosta Leonard Palsson</th>\n",
              "      <td>0</td>\n",
              "      <td>3</td>\n",
              "      <td>male</td>\n",
              "      <td>2.0</td>\n",
              "      <td>3</td>\n",
              "      <td>1</td>\n",
              "      <td>21.0750</td>\n",
              "    </tr>\n",
              "    <tr>\n",
              "      <th>...</th>\n",
              "      <td>...</td>\n",
              "      <td>...</td>\n",
              "      <td>...</td>\n",
              "      <td>...</td>\n",
              "      <td>...</td>\n",
              "      <td>...</td>\n",
              "      <td>...</td>\n",
              "    </tr>\n",
              "    <tr>\n",
              "      <th>Miss. Gerda Ulrika Dahlberg</th>\n",
              "      <td>0</td>\n",
              "      <td>3</td>\n",
              "      <td>female</td>\n",
              "      <td>22.0</td>\n",
              "      <td>0</td>\n",
              "      <td>0</td>\n",
              "      <td>10.5167</td>\n",
              "    </tr>\n",
              "    <tr>\n",
              "      <th>Mr. Henry Jr Sutehall</th>\n",
              "      <td>0</td>\n",
              "      <td>3</td>\n",
              "      <td>male</td>\n",
              "      <td>25.0</td>\n",
              "      <td>0</td>\n",
              "      <td>0</td>\n",
              "      <td>7.0500</td>\n",
              "    </tr>\n",
              "    <tr>\n",
              "      <th>Mrs. William (Margaret Norton) Rice</th>\n",
              "      <td>0</td>\n",
              "      <td>3</td>\n",
              "      <td>female</td>\n",
              "      <td>39.0</td>\n",
              "      <td>0</td>\n",
              "      <td>5</td>\n",
              "      <td>29.1250</td>\n",
              "    </tr>\n",
              "    <tr>\n",
              "      <th>Miss. Catherine Helen Johnston</th>\n",
              "      <td>0</td>\n",
              "      <td>3</td>\n",
              "      <td>female</td>\n",
              "      <td>7.0</td>\n",
              "      <td>1</td>\n",
              "      <td>2</td>\n",
              "      <td>23.4500</td>\n",
              "    </tr>\n",
              "    <tr>\n",
              "      <th>Mr. Patrick Dooley</th>\n",
              "      <td>0</td>\n",
              "      <td>3</td>\n",
              "      <td>male</td>\n",
              "      <td>32.0</td>\n",
              "      <td>0</td>\n",
              "      <td>0</td>\n",
              "      <td>7.7500</td>\n",
              "    </tr>\n",
              "  </tbody>\n",
              "</table>\n",
              "<p>487 rows × 7 columns</p>\n",
              "</div>"
            ],
            "text/plain": [
              "                                     Survived  ...     Fare\n",
              "Name                                           ...         \n",
              "Mr. Owen Harris Braund                      0  ...   7.2500\n",
              "Miss. Laina Heikkinen                       1  ...   7.9250\n",
              "Mr. William Henry Allen                     0  ...   8.0500\n",
              "Mr. James Moran                             0  ...   8.4583\n",
              "Master. Gosta Leonard Palsson               0  ...  21.0750\n",
              "...                                       ...  ...      ...\n",
              "Miss. Gerda Ulrika Dahlberg                 0  ...  10.5167\n",
              "Mr. Henry Jr Sutehall                       0  ...   7.0500\n",
              "Mrs. William (Margaret Norton) Rice         0  ...  29.1250\n",
              "Miss. Catherine Helen Johnston              0  ...  23.4500\n",
              "Mr. Patrick Dooley                          0  ...   7.7500\n",
              "\n",
              "[487 rows x 7 columns]"
            ]
          },
          "metadata": {
            "tags": []
          },
          "execution_count": 64
        }
      ]
    },
    {
      "cell_type": "code",
      "metadata": {
        "id": "Sh-BOEL67PYa",
        "colab": {
          "base_uri": "https://localhost:8080/",
          "height": 286
        },
        "outputId": "1ce4bae9-1758-49bb-a28b-2ee084467f7e"
      },
      "source": [
        "#Guarda el conjunto de datos que cumple la condición \n",
        "menores10anios = titanic[titanic['Age']<10]   \n",
        "print(menores10anios.shape)\n",
        "menores10anios.head()"
      ],
      "execution_count": 65,
      "outputs": [
        {
          "output_type": "stream",
          "text": [
            "(71, 7)\n"
          ],
          "name": "stdout"
        },
        {
          "output_type": "execute_result",
          "data": {
            "text/html": [
              "<div>\n",
              "<style scoped>\n",
              "    .dataframe tbody tr th:only-of-type {\n",
              "        vertical-align: middle;\n",
              "    }\n",
              "\n",
              "    .dataframe tbody tr th {\n",
              "        vertical-align: top;\n",
              "    }\n",
              "\n",
              "    .dataframe thead th {\n",
              "        text-align: right;\n",
              "    }\n",
              "</style>\n",
              "<table border=\"1\" class=\"dataframe\">\n",
              "  <thead>\n",
              "    <tr style=\"text-align: right;\">\n",
              "      <th></th>\n",
              "      <th>Survived</th>\n",
              "      <th>Pclass</th>\n",
              "      <th>Sex</th>\n",
              "      <th>Age</th>\n",
              "      <th>Siblings/Spouses Aboard</th>\n",
              "      <th>Parents/Children Aboard</th>\n",
              "      <th>Fare</th>\n",
              "    </tr>\n",
              "    <tr>\n",
              "      <th>Name</th>\n",
              "      <th></th>\n",
              "      <th></th>\n",
              "      <th></th>\n",
              "      <th></th>\n",
              "      <th></th>\n",
              "      <th></th>\n",
              "      <th></th>\n",
              "    </tr>\n",
              "  </thead>\n",
              "  <tbody>\n",
              "    <tr>\n",
              "      <th>Master. Gosta Leonard Palsson</th>\n",
              "      <td>0</td>\n",
              "      <td>3</td>\n",
              "      <td>male</td>\n",
              "      <td>2.0</td>\n",
              "      <td>3</td>\n",
              "      <td>1</td>\n",
              "      <td>21.0750</td>\n",
              "    </tr>\n",
              "    <tr>\n",
              "      <th>Miss. Marguerite Rut Sandstrom</th>\n",
              "      <td>1</td>\n",
              "      <td>3</td>\n",
              "      <td>female</td>\n",
              "      <td>4.0</td>\n",
              "      <td>1</td>\n",
              "      <td>1</td>\n",
              "      <td>16.7000</td>\n",
              "    </tr>\n",
              "    <tr>\n",
              "      <th>Master. Eugene Rice</th>\n",
              "      <td>0</td>\n",
              "      <td>3</td>\n",
              "      <td>male</td>\n",
              "      <td>2.0</td>\n",
              "      <td>4</td>\n",
              "      <td>1</td>\n",
              "      <td>29.1250</td>\n",
              "    </tr>\n",
              "    <tr>\n",
              "      <th>Miss. Torborg Danira Palsson</th>\n",
              "      <td>0</td>\n",
              "      <td>3</td>\n",
              "      <td>female</td>\n",
              "      <td>8.0</td>\n",
              "      <td>3</td>\n",
              "      <td>1</td>\n",
              "      <td>21.0750</td>\n",
              "    </tr>\n",
              "    <tr>\n",
              "      <th>Miss. Simonne Marie Anne Andree Laroche</th>\n",
              "      <td>1</td>\n",
              "      <td>2</td>\n",
              "      <td>female</td>\n",
              "      <td>3.0</td>\n",
              "      <td>1</td>\n",
              "      <td>2</td>\n",
              "      <td>41.5792</td>\n",
              "    </tr>\n",
              "  </tbody>\n",
              "</table>\n",
              "</div>"
            ],
            "text/plain": [
              "                                         Survived  ...     Fare\n",
              "Name                                               ...         \n",
              "Master. Gosta Leonard Palsson                   0  ...  21.0750\n",
              "Miss. Marguerite Rut Sandstrom                  1  ...  16.7000\n",
              "Master. Eugene Rice                             0  ...  29.1250\n",
              "Miss. Torborg Danira Palsson                    0  ...  21.0750\n",
              "Miss. Simonne Marie Anne Andree Laroche         1  ...  41.5792\n",
              "\n",
              "[5 rows x 7 columns]"
            ]
          },
          "metadata": {
            "tags": []
          },
          "execution_count": 65
        }
      ]
    },
    {
      "cell_type": "code",
      "metadata": {
        "id": "CJr3FXHG7PYa",
        "colab": {
          "base_uri": "https://localhost:8080/",
          "height": 252
        },
        "outputId": "2f4db3d8-8d36-43cf-f511-fa57fa184a3e"
      },
      "source": [
        "hombres = titanic[titanic['Sex']=='male']\n",
        "print(hombres.shape)\n",
        "hombres.tail()"
      ],
      "execution_count": 66,
      "outputs": [
        {
          "output_type": "stream",
          "text": [
            "(573, 7)\n"
          ],
          "name": "stdout"
        },
        {
          "output_type": "execute_result",
          "data": {
            "text/html": [
              "<div>\n",
              "<style scoped>\n",
              "    .dataframe tbody tr th:only-of-type {\n",
              "        vertical-align: middle;\n",
              "    }\n",
              "\n",
              "    .dataframe tbody tr th {\n",
              "        vertical-align: top;\n",
              "    }\n",
              "\n",
              "    .dataframe thead th {\n",
              "        text-align: right;\n",
              "    }\n",
              "</style>\n",
              "<table border=\"1\" class=\"dataframe\">\n",
              "  <thead>\n",
              "    <tr style=\"text-align: right;\">\n",
              "      <th></th>\n",
              "      <th>Survived</th>\n",
              "      <th>Pclass</th>\n",
              "      <th>Sex</th>\n",
              "      <th>Age</th>\n",
              "      <th>Siblings/Spouses Aboard</th>\n",
              "      <th>Parents/Children Aboard</th>\n",
              "      <th>Fare</th>\n",
              "    </tr>\n",
              "    <tr>\n",
              "      <th>Name</th>\n",
              "      <th></th>\n",
              "      <th></th>\n",
              "      <th></th>\n",
              "      <th></th>\n",
              "      <th></th>\n",
              "      <th></th>\n",
              "      <th></th>\n",
              "    </tr>\n",
              "  </thead>\n",
              "  <tbody>\n",
              "    <tr>\n",
              "      <th>Mr. Frederick James Banfield</th>\n",
              "      <td>0</td>\n",
              "      <td>2</td>\n",
              "      <td>male</td>\n",
              "      <td>28.0</td>\n",
              "      <td>0</td>\n",
              "      <td>0</td>\n",
              "      <td>10.50</td>\n",
              "    </tr>\n",
              "    <tr>\n",
              "      <th>Mr. Henry Jr Sutehall</th>\n",
              "      <td>0</td>\n",
              "      <td>3</td>\n",
              "      <td>male</td>\n",
              "      <td>25.0</td>\n",
              "      <td>0</td>\n",
              "      <td>0</td>\n",
              "      <td>7.05</td>\n",
              "    </tr>\n",
              "    <tr>\n",
              "      <th>Rev. Juozas Montvila</th>\n",
              "      <td>0</td>\n",
              "      <td>2</td>\n",
              "      <td>male</td>\n",
              "      <td>27.0</td>\n",
              "      <td>0</td>\n",
              "      <td>0</td>\n",
              "      <td>13.00</td>\n",
              "    </tr>\n",
              "    <tr>\n",
              "      <th>Mr. Karl Howell Behr</th>\n",
              "      <td>1</td>\n",
              "      <td>1</td>\n",
              "      <td>male</td>\n",
              "      <td>26.0</td>\n",
              "      <td>0</td>\n",
              "      <td>0</td>\n",
              "      <td>30.00</td>\n",
              "    </tr>\n",
              "    <tr>\n",
              "      <th>Mr. Patrick Dooley</th>\n",
              "      <td>0</td>\n",
              "      <td>3</td>\n",
              "      <td>male</td>\n",
              "      <td>32.0</td>\n",
              "      <td>0</td>\n",
              "      <td>0</td>\n",
              "      <td>7.75</td>\n",
              "    </tr>\n",
              "  </tbody>\n",
              "</table>\n",
              "</div>"
            ],
            "text/plain": [
              "                              Survived  Pclass  ... Parents/Children Aboard   Fare\n",
              "Name                                            ...                               \n",
              "Mr. Frederick James Banfield         0       2  ...                       0  10.50\n",
              "Mr. Henry Jr Sutehall                0       3  ...                       0   7.05\n",
              "Rev. Juozas Montvila                 0       2  ...                       0  13.00\n",
              "Mr. Karl Howell Behr                 1       1  ...                       0  30.00\n",
              "Mr. Patrick Dooley                   0       3  ...                       0   7.75\n",
              "\n",
              "[5 rows x 7 columns]"
            ]
          },
          "metadata": {
            "tags": []
          },
          "execution_count": 66
        }
      ]
    },
    {
      "cell_type": "code",
      "metadata": {
        "id": "A6Si7SRVvezU",
        "colab": {
          "base_uri": "https://localhost:8080/"
        },
        "outputId": "c46b6aee-1e0c-45ce-fa56-4973ed5237a0"
      },
      "source": [
        "filtro1 = titanic['Pclass']==1\n",
        "filtro2 = titanic['Sex']=='female'\n",
        "\n",
        "filtro1 & filtro2"
      ],
      "execution_count": 67,
      "outputs": [
        {
          "output_type": "execute_result",
          "data": {
            "text/plain": [
              "Name\n",
              "Mr. Owen Harris Braund                                False\n",
              "Mrs. John Bradley (Florence Briggs Thayer) Cumings     True\n",
              "Miss. Laina Heikkinen                                 False\n",
              "Mrs. Jacques Heath (Lily May Peel) Futrelle            True\n",
              "Mr. William Henry Allen                               False\n",
              "                                                      ...  \n",
              "Rev. Juozas Montvila                                  False\n",
              "Miss. Margaret Edith Graham                            True\n",
              "Miss. Catherine Helen Johnston                        False\n",
              "Mr. Karl Howell Behr                                  False\n",
              "Mr. Patrick Dooley                                    False\n",
              "Length: 887, dtype: bool"
            ]
          },
          "metadata": {
            "tags": []
          },
          "execution_count": 67
        }
      ]
    },
    {
      "cell_type": "code",
      "metadata": {
        "id": "uO4BQt807PYa",
        "colab": {
          "base_uri": "https://localhost:8080/",
          "height": 337
        },
        "outputId": "dca05e73-20d1-415c-a0c0-d9da524f243b"
      },
      "source": [
        "#Subconjunto de pasajeros de primera clase mujeres\n",
        "filtro1 = titanic['Pclass']==1\n",
        "filtro2 = titanic['Sex']=='female'\n",
        "\n",
        "MujeresPrimera = titanic[filtro1 & filtro2]\n",
        "\n",
        "print(MujeresPrimera.shape)\n",
        "MujeresPrimera.head()"
      ],
      "execution_count": 68,
      "outputs": [
        {
          "output_type": "stream",
          "text": [
            "(94, 7)\n"
          ],
          "name": "stdout"
        },
        {
          "output_type": "execute_result",
          "data": {
            "text/html": [
              "<div>\n",
              "<style scoped>\n",
              "    .dataframe tbody tr th:only-of-type {\n",
              "        vertical-align: middle;\n",
              "    }\n",
              "\n",
              "    .dataframe tbody tr th {\n",
              "        vertical-align: top;\n",
              "    }\n",
              "\n",
              "    .dataframe thead th {\n",
              "        text-align: right;\n",
              "    }\n",
              "</style>\n",
              "<table border=\"1\" class=\"dataframe\">\n",
              "  <thead>\n",
              "    <tr style=\"text-align: right;\">\n",
              "      <th></th>\n",
              "      <th>Survived</th>\n",
              "      <th>Pclass</th>\n",
              "      <th>Sex</th>\n",
              "      <th>Age</th>\n",
              "      <th>Siblings/Spouses Aboard</th>\n",
              "      <th>Parents/Children Aboard</th>\n",
              "      <th>Fare</th>\n",
              "    </tr>\n",
              "    <tr>\n",
              "      <th>Name</th>\n",
              "      <th></th>\n",
              "      <th></th>\n",
              "      <th></th>\n",
              "      <th></th>\n",
              "      <th></th>\n",
              "      <th></th>\n",
              "      <th></th>\n",
              "    </tr>\n",
              "  </thead>\n",
              "  <tbody>\n",
              "    <tr>\n",
              "      <th>Mrs. John Bradley (Florence Briggs Thayer) Cumings</th>\n",
              "      <td>1</td>\n",
              "      <td>1</td>\n",
              "      <td>female</td>\n",
              "      <td>38.0</td>\n",
              "      <td>1</td>\n",
              "      <td>0</td>\n",
              "      <td>71.2833</td>\n",
              "    </tr>\n",
              "    <tr>\n",
              "      <th>Mrs. Jacques Heath (Lily May Peel) Futrelle</th>\n",
              "      <td>1</td>\n",
              "      <td>1</td>\n",
              "      <td>female</td>\n",
              "      <td>35.0</td>\n",
              "      <td>1</td>\n",
              "      <td>0</td>\n",
              "      <td>53.1000</td>\n",
              "    </tr>\n",
              "    <tr>\n",
              "      <th>Miss. Elizabeth Bonnell</th>\n",
              "      <td>1</td>\n",
              "      <td>1</td>\n",
              "      <td>female</td>\n",
              "      <td>58.0</td>\n",
              "      <td>0</td>\n",
              "      <td>0</td>\n",
              "      <td>26.5500</td>\n",
              "    </tr>\n",
              "    <tr>\n",
              "      <th>Mrs. William Augustus (Marie Eugenie) Spencer</th>\n",
              "      <td>1</td>\n",
              "      <td>1</td>\n",
              "      <td>female</td>\n",
              "      <td>48.0</td>\n",
              "      <td>1</td>\n",
              "      <td>0</td>\n",
              "      <td>146.5208</td>\n",
              "    </tr>\n",
              "    <tr>\n",
              "      <th>Mrs. Henry Sleeper (Myna Haxtun) Harper</th>\n",
              "      <td>1</td>\n",
              "      <td>1</td>\n",
              "      <td>female</td>\n",
              "      <td>49.0</td>\n",
              "      <td>1</td>\n",
              "      <td>0</td>\n",
              "      <td>76.7292</td>\n",
              "    </tr>\n",
              "  </tbody>\n",
              "</table>\n",
              "</div>"
            ],
            "text/plain": [
              "                                                    Survived  ...      Fare\n",
              "Name                                                          ...          \n",
              "Mrs. John Bradley (Florence Briggs Thayer) Cumings         1  ...   71.2833\n",
              "Mrs. Jacques Heath (Lily May Peel) Futrelle                1  ...   53.1000\n",
              "Miss. Elizabeth Bonnell                                    1  ...   26.5500\n",
              "Mrs. William Augustus (Marie Eugenie) Spencer              1  ...  146.5208\n",
              "Mrs. Henry Sleeper (Myna Haxtun) Harper                    1  ...   76.7292\n",
              "\n",
              "[5 rows x 7 columns]"
            ]
          },
          "metadata": {
            "tags": []
          },
          "execution_count": 68
        }
      ]
    },
    {
      "cell_type": "code",
      "metadata": {
        "id": "g-msVp3gGHQZ"
      },
      "source": [
        "MujeresPrimera.to_csv('Mujeres_en_primera_Titanic.csv')"
      ],
      "execution_count": 69,
      "outputs": []
    },
    {
      "cell_type": "markdown",
      "metadata": {
        "id": "X5qQZ8ky7PYa"
      },
      "source": [
        "## Recomendacion para programadores que inician su práctica.\n",
        "\n",
        "\n",
        "1. Escribe y ejecuta una sola linea de codigo para explorar tus datos\n",
        "2. Verifica su correcto funcionamiento, obteniendo el output de esa linea\n",
        "3. Asigna el resultad a una variable\n",
        "4. En la misma linea, muestra las primeras lineas del Data Frame o la Serie, según la acción ejecutada.\n",
        "5. Continua en la siguiente celda."
      ]
    }
  ]
}